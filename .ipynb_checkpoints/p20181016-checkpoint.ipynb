{
 "cells": [
  {
   "cell_type": "markdown",
   "metadata": {},
   "source": [
    "# 回调函数"
   ]
  },
  {
   "cell_type": "code",
   "execution_count": 10,
   "metadata": {},
   "outputs": [],
   "source": [
    "import keras\n",
    "import numpy as np\n",
    "from keras import models\n",
    "from keras import layers\n",
    "from keras import losses\n",
    "from keras import metrics\n",
    "from keras import optimizers\n",
    "from keras.datasets import imdb"
   ]
  },
  {
   "cell_type": "code",
   "execution_count": 6,
   "metadata": {},
   "outputs": [],
   "source": [
    "(train_data, train_labels), (test_data, test_labels) = imdb.load_data(num_words=10000)\n",
    "word_index = imdb.get_word_index()\n",
    "reverse_word_index = dict([(value, key) for (key, value) in word_index.items()])\n",
    "decoded_review = ' '.join([reverse_word_index.get(i - 3, '?') for i in train_data[0]])"
   ]
  },
  {
   "cell_type": "code",
   "execution_count": 7,
   "metadata": {},
   "outputs": [],
   "source": [
    "def vectorize_sequences(sequences, dimension=10000):\n",
    "    results = np.zeros((len(sequences), dimension))\n",
    "    for i, sequence in enumerate(sequences):\n",
    "        results[i, sequence] = 1\n",
    "    return results"
   ]
  },
  {
   "cell_type": "code",
   "execution_count": 8,
   "metadata": {},
   "outputs": [],
   "source": [
    "x_train = vectorize_sequences(train_data)\n",
    "x_test = vectorize_sequences(test_data)\n",
    "y_train = np.asarray(train_labels).astype('float32')\n",
    "y_test = np.asarray(test_labels).astype('float32')"
   ]
  },
  {
   "cell_type": "code",
   "execution_count": 13,
   "metadata": {},
   "outputs": [],
   "source": [
    "x_val = x_train[:10000]\n",
    "partial_x_train = x_train[10000:]\n",
    "y_val = y_train[:10000]\n",
    "partial_y_train = y_train[10000:]"
   ]
  },
  {
   "cell_type": "code",
   "execution_count": 20,
   "metadata": {},
   "outputs": [],
   "source": [
    "model = models.Sequential()\n",
    "model.add(layers.Dense(16, activation='relu', input_shape=(10000,)))\n",
    "model.add(layers.Dense(16, activation='relu'))\n",
    "model.add(layers.Dense(1, activation='sigmoid'))"
   ]
  },
  {
   "cell_type": "code",
   "execution_count": 21,
   "metadata": {},
   "outputs": [],
   "source": [
    "callbacks_list = [\n",
    "    keras.callbacks.EarlyStopping(\n",
    "        monitor='acc',\n",
    "        patience=1,\n",
    "    ),\n",
    "    keras.callbacks.ModelCheckpoint(\n",
    "        filepath='p20181016.h5',\n",
    "        monitor='val_loss',\n",
    "        save_best_only=True,\n",
    "    )\n",
    "]"
   ]
  },
  {
   "cell_type": "code",
   "execution_count": 22,
   "metadata": {},
   "outputs": [],
   "source": [
    "model.compile(optimizer='rmsprop',\n",
    "              loss='binary_crossentropy',\n",
    "              metrics=['acc'])"
   ]
  },
  {
   "cell_type": "code",
   "execution_count": 23,
   "metadata": {},
   "outputs": [
    {
     "name": "stdout",
     "output_type": "stream",
     "text": [
      "Train on 15000 samples, validate on 10000 samples\n",
      "Epoch 1/30\n",
      "15000/15000 [==============================] - 3s 192us/step - loss: 0.3769 - acc: 0.8473 - val_loss: 0.2749 - val_acc: 0.8915\n",
      "Epoch 2/30\n",
      "15000/15000 [==============================] - 3s 170us/step - loss: 0.2046 - acc: 0.9225 - val_loss: 0.2866 - val_acc: 0.8890\n",
      "Epoch 3/30\n",
      "15000/15000 [==============================] - 3s 172us/step - loss: 0.1527 - acc: 0.9427 - val_loss: 0.3263 - val_acc: 0.8780\n",
      "Epoch 4/30\n",
      "15000/15000 [==============================] - 2s 158us/step - loss: 0.1205 - acc: 0.9565 - val_loss: 0.3482 - val_acc: 0.8834\n",
      "Epoch 5/30\n",
      "15000/15000 [==============================] - 2s 161us/step - loss: 0.0945 - acc: 0.9672 - val_loss: 0.3917 - val_acc: 0.8789\n",
      "Epoch 6/30\n",
      "15000/15000 [==============================] - 2s 157us/step - loss: 0.0701 - acc: 0.9751 - val_loss: 0.4430 - val_acc: 0.8750\n",
      "Epoch 7/30\n",
      "15000/15000 [==============================] - 3s 170us/step - loss: 0.0519 - acc: 0.9812 - val_loss: 0.5049 - val_acc: 0.8717\n",
      "Epoch 8/30\n",
      "15000/15000 [==============================] - 3s 172us/step - loss: 0.0357 - acc: 0.9875 - val_loss: 0.6041 - val_acc: 0.8700\n",
      "Epoch 9/30\n",
      "15000/15000 [==============================] - 3s 172us/step - loss: 0.0235 - acc: 0.9915 - val_loss: 0.6868 - val_acc: 0.8667\n",
      "Epoch 10/30\n",
      "15000/15000 [==============================] - 3s 168us/step - loss: 0.0157 - acc: 0.9949 - val_loss: 0.7722 - val_acc: 0.8658\n",
      "Epoch 11/30\n",
      "15000/15000 [==============================] - 3s 169us/step - loss: 0.0091 - acc: 0.9976 - val_loss: 0.8928 - val_acc: 0.8675\n",
      "Epoch 12/30\n",
      "15000/15000 [==============================] - 3s 171us/step - loss: 0.0055 - acc: 0.9983 - val_loss: 0.9793 - val_acc: 0.8639\n",
      "Epoch 13/30\n",
      "15000/15000 [==============================] - 3s 174us/step - loss: 0.0027 - acc: 0.9995 - val_loss: 1.0755 - val_acc: 0.8649\n",
      "Epoch 14/30\n",
      "15000/15000 [==============================] - 3s 179us/step - loss: 0.0013 - acc: 0.9999 - val_loss: 1.1728 - val_acc: 0.8633\n",
      "Epoch 15/30\n",
      "15000/15000 [==============================] - 3s 170us/step - loss: 8.3481e-04 - acc: 0.9998 - val_loss: 1.2309 - val_acc: 0.8629\n"
     ]
    }
   ],
   "source": [
    "history = model.fit(partial_x_train,\n",
    "                    partial_y_train,\n",
    "                    epochs=30,\n",
    "                    batch_size=64,\n",
    "                    callbacks=callbacks_list,\n",
    "                    validation_data=(x_val, y_val))"
   ]
  },
  {
   "cell_type": "code",
   "execution_count": 25,
   "metadata": {},
   "outputs": [
    {
     "data": {
      "image/png": "[encoded data removed]",
      "text/plain": [
       "<Figure size 432x288 with 1 Axes>"
      ]
     },
     "metadata": {
      "needs_background": "light"
     },
     "output_type": "display_data"
    },
    {
     "data": {
      "image/png": "[encoded data removed]",
      "text/plain": [
       "<Figure size 432x288 with 1 Axes>"
      ]
     },
     "metadata": {
      "needs_background": "light"
     },
     "output_type": "display_data"
    }
   ],
   "source": [
    "import matplotlib.pyplot as plt\n",
    "\n",
    "acc = history.history['acc']\n",
    "val_acc = history.history['val_acc']\n",
    "loss = history.history['loss']\n",
    "val_loss = history.history['val_loss']\n",
    "\n",
    "epochs = range(1, len(acc) + 1)\n",
    "\n",
    "plt.plot(epochs, acc, 'bo', label='Training acc')\n",
    "plt.plot(epochs, val_acc, 'b', label='Validation acc')\n",
    "plt.title('Training and Validation accuracy')\n",
    "plt.legend()\n",
    "\n",
    "plt.figure()\n",
    "\n",
    "plt.plot(epochs, loss, 'bo', label='Training loss')\n",
    "plt.plot(epochs, val_loss, 'b', label='Validation loss')\n",
    "plt.title('Training and Validation loss')\n",
    "plt.legend()\n",
    "\n",
    "plt.show()"
   ]
  },
  {
   "cell_type": "code",
   "execution_count": 26,
   "metadata": {},
   "outputs": [],
   "source": [
    "model = models.Sequential()\n",
    "model.add(layers.Dense(16, activation='relu', input_shape=(10000,)))\n",
    "model.add(layers.Dense(16, activation='relu'))\n",
    "model.add(layers.Dense(1, activation='sigmoid'))"
   ]
  },
  {
   "cell_type": "code",
   "execution_count": 27,
   "metadata": {},
   "outputs": [],
   "source": [
    "callbacks_list = [\n",
    "    keras.callbacks.ReduceLROnPlateau(\n",
    "        monitor='val_loss',\n",
    "        factor=0.1,\n",
    "        patience=10,\n",
    "    )\n",
    "]"
   ]
  },
  {
   "cell_type": "code",
   "execution_count": 29,
   "metadata": {},
   "outputs": [],
   "source": [
    "model.compile(optimizer='rmsprop',\n",
    "              loss='binary_crossentropy',\n",
    "              metrics=['acc'])"
   ]
  },
  {
   "cell_type": "code",
   "execution_count": 30,
   "metadata": {},
   "outputs": [
    {
     "name": "stdout",
     "output_type": "stream",
     "text": [
      "Train on 15000 samples, validate on 10000 samples\n",
      "Epoch 1/30\n",
      "15000/15000 [==============================] - 3s 197us/step - loss: 0.3591 - acc: 0.8560 - val_loss: 0.2753 - val_acc: 0.8925\n",
      "Epoch 2/30\n",
      "15000/15000 [==============================] - 3s 181us/step - loss: 0.1990 - acc: 0.9239 - val_loss: 0.2848 - val_acc: 0.8884\n",
      "Epoch 3/30\n",
      "15000/15000 [==============================] - 3s 181us/step - loss: 0.1517 - acc: 0.9447 - val_loss: 0.3154 - val_acc: 0.8820\n",
      "Epoch 4/30\n",
      "15000/15000 [==============================] - 3s 179us/step - loss: 0.1179 - acc: 0.9571 - val_loss: 0.3536 - val_acc: 0.8805\n",
      "Epoch 5/30\n",
      "15000/15000 [==============================] - 3s 171us/step - loss: 0.0962 - acc: 0.9675 - val_loss: 0.3948 - val_acc: 0.8772\n",
      "Epoch 6/30\n",
      "15000/15000 [==============================] - 3s 179us/step - loss: 0.0752 - acc: 0.9733 - val_loss: 0.4410 - val_acc: 0.8743\n",
      "Epoch 7/30\n",
      "15000/15000 [==============================] - 3s 171us/step - loss: 0.0591 - acc: 0.9788 - val_loss: 0.4981 - val_acc: 0.8719\n",
      "Epoch 8/30\n",
      "15000/15000 [==============================] - 3s 176us/step - loss: 0.0455 - acc: 0.9835 - val_loss: 0.5719 - val_acc: 0.8673\n",
      "Epoch 9/30\n",
      "15000/15000 [==============================] - 3s 177us/step - loss: 0.0333 - acc: 0.9881 - val_loss: 0.6524 - val_acc: 0.8656\n",
      "Epoch 10/30\n",
      "15000/15000 [==============================] - 3s 175us/step - loss: 0.0245 - acc: 0.9916 - val_loss: 0.7367 - val_acc: 0.8620\n",
      "Epoch 11/30\n",
      "15000/15000 [==============================] - 3s 177us/step - loss: 0.0166 - acc: 0.9947 - val_loss: 0.7995 - val_acc: 0.8629\n",
      "Epoch 12/30\n",
      "15000/15000 [==============================] - 3s 178us/step - loss: 0.0063 - acc: 0.9988 - val_loss: 0.8371 - val_acc: 0.8645\n",
      "Epoch 13/30\n",
      "15000/15000 [==============================] - 3s 177us/step - loss: 0.0054 - acc: 0.9989 - val_loss: 0.8619 - val_acc: 0.8646\n",
      "Epoch 14/30\n",
      "15000/15000 [==============================] - 3s 179us/step - loss: 0.0049 - acc: 0.9990 - val_loss: 0.8809 - val_acc: 0.8648\n",
      "Epoch 15/30\n",
      "15000/15000 [==============================] - 3s 179us/step - loss: 0.0044 - acc: 0.9990 - val_loss: 0.8989 - val_acc: 0.8639\n",
      "Epoch 16/30\n",
      "15000/15000 [==============================] - 3s 186us/step - loss: 0.0040 - acc: 0.9991 - val_loss: 0.9202 - val_acc: 0.8635\n",
      "Epoch 17/30\n",
      "15000/15000 [==============================] - 3s 183us/step - loss: 0.0037 - acc: 0.9991 - val_loss: 0.9382 - val_acc: 0.8638\n",
      "Epoch 18/30\n",
      "15000/15000 [==============================] - 3s 179us/step - loss: 0.0034 - acc: 0.9992 - val_loss: 0.9545 - val_acc: 0.8626\n",
      "Epoch 19/30\n",
      "15000/15000 [==============================] - 3s 177us/step - loss: 0.0031 - acc: 0.9993 - val_loss: 0.9704 - val_acc: 0.8635\n",
      "Epoch 20/30\n",
      "15000/15000 [==============================] - 3s 178us/step - loss: 0.0029 - acc: 0.9992 - val_loss: 0.9887 - val_acc: 0.8624\n",
      "Epoch 21/30\n",
      "15000/15000 [==============================] - 3s 186us/step - loss: 0.0027 - acc: 0.9993 - val_loss: 1.0042 - val_acc: 0.8626\n",
      "Epoch 22/30\n",
      "15000/15000 [==============================] - 3s 183us/step - loss: 0.0024 - acc: 0.9994 - val_loss: 1.0056 - val_acc: 0.8627\n",
      "Epoch 23/30\n",
      "15000/15000 [==============================] - 3s 183us/step - loss: 0.0023 - acc: 0.9994 - val_loss: 1.0076 - val_acc: 0.8625\n",
      "Epoch 24/30\n",
      "15000/15000 [==============================] - 3s 179us/step - loss: 0.0023 - acc: 0.9995 - val_loss: 1.0094 - val_acc: 0.8627\n",
      "Epoch 25/30\n",
      "15000/15000 [==============================] - 3s 179us/step - loss: 0.0023 - acc: 0.9995 - val_loss: 1.0110 - val_acc: 0.8627\n",
      "Epoch 26/30\n",
      "15000/15000 [==============================] - 3s 177us/step - loss: 0.0023 - acc: 0.9995 - val_loss: 1.0128 - val_acc: 0.8627\n",
      "Epoch 27/30\n",
      "15000/15000 [==============================] - 3s 178us/step - loss: 0.0022 - acc: 0.9995 - val_loss: 1.0146 - val_acc: 0.8628\n",
      "Epoch 28/30\n",
      "15000/15000 [==============================] - 3s 180us/step - loss: 0.0022 - acc: 0.9995 - val_loss: 1.0162 - val_acc: 0.8630\n",
      "Epoch 29/30\n",
      "15000/15000 [==============================] - 3s 184us/step - loss: 0.0022 - acc: 0.9995 - val_loss: 1.0182 - val_acc: 0.8628\n",
      "Epoch 30/30\n",
      "15000/15000 [==============================] - 3s 180us/step - loss: 0.0022 - acc: 0.9995 - val_loss: 1.0199 - val_acc: 0.8630\n"
     ]
    }
   ],
   "source": [
    "history = model.fit(partial_x_train,\n",
    "                    partial_y_train,\n",
    "                    epochs=30,\n",
    "                    batch_size=64,\n",
    "                    callbacks=callbacks_list,\n",
    "                    validation_data=(x_val, y_val))"
   ]
  },
  {
   "cell_type": "code",
   "execution_count": 31,
   "metadata": {},
   "outputs": [
    {
     "data": {
      "image/png": "[encoded data removed]",
      "text/plain": [
       "<Figure size 432x288 with 1 Axes>"
      ]
     },
     "metadata": {
      "needs_background": "light"
     },
     "output_type": "display_data"
    },
    {
     "data": {
      "image/png": "[encoded data removed]",
      "text/plain": [
       "<Figure size 432x288 with 1 Axes>"
      ]
     },
     "metadata": {
      "needs_background": "light"
     },
     "output_type": "display_data"
    }
   ],
   "source": [
    "import matplotlib.pyplot as plt\n",
    "\n",
    "acc = history.history['acc']\n",
    "val_acc = history.history['val_acc']\n",
    "loss = history.history['loss']\n",
    "val_loss = history.history['val_loss']\n",
    "\n",
    "epochs = range(1, len(acc) + 1)\n",
    "\n",
    "plt.plot(epochs, acc, 'bo', label='Training acc')\n",
    "plt.plot(epochs, val_acc, 'b', label='Validation acc')\n",
    "plt.title('Training and Validation accuracy')\n",
    "plt.legend()\n",
    "\n",
    "plt.figure()\n",
    "\n",
    "plt.plot(epochs, loss, 'bo', label='Training loss')\n",
    "plt.plot(epochs, val_loss, 'b', label='Validation loss')\n",
    "plt.title('Training and Validation loss')\n",
    "plt.legend()\n",
    "\n",
    "plt.show()"
   ]
  },
  {
   "cell_type": "code",
   "execution_count": 32,
   "metadata": {},
   "outputs": [],
   "source": [
    "import keras\n",
    "import numpy as np"
   ]
  },
  {
   "cell_type": "code",
   "execution_count": 33,
   "metadata": {},
   "outputs": [],
   "source": [
    "class ActivationLogger(keras.callbacks.Callback):\n",
    "    \n",
    "    def set_model(self, model):\n",
    "        self.model = model\n",
    "        layer_outputs = [layer.output for layer in model.layers]\n",
    "        self.activations_model = keras.models.Model(model.input, layer_outputs)\n",
    "        \n",
    "    def on_epoch_end(self, epoch, logs=None):\n",
    "        if self.validation_data is None:\n",
    "            raise RuntimeError('Requires validation_data.')\n",
    "        validation_sample = self.validation_data[0][0:1]\n",
    "        activations = self.activations_model.predict(validation_sample)\n",
    "        f = open('activation_at_epoch_' + str(epoch) + '.npz', 'w')\n",
    "        np.savez(f, activations)\n",
    "        f.close()"
   ]
  }
 ],
 "metadata": {
  "kernelspec": {
   "display_name": "Python 3",
   "language": "python",
   "name": "python3"
  },
  "language_info": {
   "codemirror_mode": {
    "name": "ipython",
    "version": 3
   },
   "file_extension": ".py",
   "mimetype": "text/x-python",
   "name": "python",
   "nbconvert_exporter": "python",
   "pygments_lexer": "ipython3",
   "version": "3.5.6"
  }
 },
 "nbformat": 4,
 "nbformat_minor": 2
}
