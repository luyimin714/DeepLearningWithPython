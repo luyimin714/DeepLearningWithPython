{
 "cells": [
  {
   "cell_type": "code",
   "execution_count": 1,
   "metadata": {},
   "outputs": [],
   "source": [
    "import os"
   ]
  },
  {
   "cell_type": "code",
   "execution_count": 2,
   "metadata": {},
   "outputs": [],
   "source": [
    "data_dir = 'datasets/jena_climate'\n",
    "fname = os.path.join(data_dir, 'jena_climate_2009_2016.csv')\n",
    "\n",
    "f = open(fname)\n",
    "'''\n",
    "read([size])方法从文件当前位置起读取size个字节，若无参数size，则表示读取至文件结束为止，它范围为字符串对象\n",
    "'''\n",
    "data = f.read()\n",
    "f.close()"
   ]
  },
  {
   "cell_type": "code",
   "execution_count": 6,
   "metadata": {},
   "outputs": [
    {
     "data": {
      "text/plain": [
       "'\"Date Time\",\"p (mbar)\",\"T (degC)\",\"Tpot (K)\",\"Tdew (degC)\",\"rh (%)\",\"VPmax (mbar)\",\"VPact (mbar)\",\"VPdef (mbar)\",\"sh (g/kg)\",\"H2OC (mmol/mol)\",\"rho (g/m**3)\",\"wv (m/s)\",\"max. wv (m/s)\",\"wd (deg)\"\\n01.01.2009 00:10:00,996.52,-8.02,265.40,-8.90,93.30,3.33,3.11,0.22,1.94,3.12,1307.75,1.03,1.75,152.30\\n01.01.2009 00:20:00,996.57,-8.41,265.01,-9.28,93.40,3.23,3.02,0.21,1.89,3.03,1309.80,0.72,1.50,136.10\\n01.01.2009 00:30:00,996.53,-8.51,264.91,-9.31,93.90,3.21,3.01,0.20,1.88,3.02,1310.24,0.19,0.63,171.6'"
      ]
     },
     "execution_count": 6,
     "metadata": {},
     "output_type": "execute_result"
    }
   ],
   "source": [
    "#data"
   ]
  },
  {
   "cell_type": "code",
   "execution_count": 3,
   "metadata": {},
   "outputs": [
    {
     "data": {
      "text/plain": [
       "['\"Date Time\",\"p (mbar)\",\"T (degC)\",\"Tpot (K)\",\"Tdew (degC)\",\"rh (%)\",\"VPmax (mbar)\",\"VPact (mbar)\",\"VPdef (mbar)\",\"sh (g/kg)\",\"H2OC (mmol/mol)\",\"rho (g/m**3)\",\"wv (m/s)\",\"max. wv (m/s)\",\"wd (deg)\"',\n",
       " '01.01.2009 00:10:00,996.52,-8.02,265.40,-8.90,93.30,3.33,3.11,0.22,1.94,3.12,1307.75,1.03,1.75,152.30',\n",
       " '01.01.2009 00:20:00,996.57,-8.41,265.01,-9.28,93.40,3.23,3.02,0.21,1.89,3.03,1309.80,0.72,1.50,136.10',\n",
       " '01.01.2009 00:30:00,996.53,-8.51,264.91,-9.31,93.90,3.21,3.01,0.20,1.88,3.02,1310.24,0.19,0.63,171.60',\n",
       " '01.01.2009 00:40:00,996.51,-8.31,265.12,-9.07,94.20,3.26,3.07,0.19,1.92,3.08,1309.19,0.34,0.50,198.00',\n",
       " '01.01.2009 00:50:00,996.51,-8.27,265.15,-9.04,94.10,3.27,3.08,0.19,1.92,3.09,1309.00,0.32,0.63,214.30',\n",
       " '01.01.2009 01:00:00,996.50,-8.05,265.38,-8.78,94.40,3.33,3.14,0.19,1.96,3.15,1307.86,0.21,0.63,192.70',\n",
       " '01.01.2009 01:10:00,996.50,-7.62,265.81,-8.30,94.80,3.44,3.26,0.18,2.04,3.27,1305.68,0.18,0.63,166.50',\n",
       " '01.01.2009 01:20:00,996.50,-7.62,265.81,-8.36,94.40,3.44,3.25,0.19,2.03,3.26,1305.69,0.19,0.50,118.60',\n",
       " '01.01.2009 01:30:00,996.50,-7.91,265.52,-8.73,93.80,3.36,3.15,0.21,1.97,3.16,1307.17,0.28,0.75,188.50']"
      ]
     },
     "execution_count": 3,
     "metadata": {},
     "output_type": "execute_result"
    }
   ],
   "source": [
    "lines = data.split('\\n')\n",
    "lines[:10]"
   ]
  },
  {
   "cell_type": "code",
   "execution_count": 4,
   "metadata": {
    "scrolled": false
   },
   "outputs": [
    {
     "data": {
      "text/plain": [
       "['\"Date Time\"',\n",
       " '\"p (mbar)\"',\n",
       " '\"T (degC)\"',\n",
       " '\"Tpot (K)\"',\n",
       " '\"Tdew (degC)\"',\n",
       " '\"rh (%)\"',\n",
       " '\"VPmax (mbar)\"',\n",
       " '\"VPact (mbar)\"',\n",
       " '\"VPdef (mbar)\"',\n",
       " '\"sh (g/kg)\"',\n",
       " '\"H2OC (mmol/mol)\"',\n",
       " '\"rho (g/m**3)\"',\n",
       " '\"wv (m/s)\"',\n",
       " '\"max. wv (m/s)\"',\n",
       " '\"wd (deg)\"']"
      ]
     },
     "execution_count": 4,
     "metadata": {},
     "output_type": "execute_result"
    }
   ],
   "source": [
    "header = lines[0].split(',')\n",
    "header"
   ]
  },
  {
   "cell_type": "code",
   "execution_count": 5,
   "metadata": {},
   "outputs": [
    {
     "name": "stdout",
     "output_type": "stream",
     "text": [
      "420551\n"
     ]
    }
   ],
   "source": [
    "lines = lines[1:]\n",
    "print(len(lines))"
   ]
  },
  {
   "cell_type": "code",
   "execution_count": 13,
   "metadata": {},
   "outputs": [],
   "source": [
    "# import pandas as pd"
   ]
  },
  {
   "cell_type": "code",
   "execution_count": 14,
   "metadata": {},
   "outputs": [
    {
     "data": {
      "text/html": [
       "<div>\n",
       "<style scoped>\n",
       "    .dataframe tbody tr th:only-of-type {\n",
       "        vertical-align: middle;\n",
       "    }\n",
       "\n",
       "    .dataframe tbody tr th {\n",
       "        vertical-align: top;\n",
       "    }\n",
       "\n",
       "    .dataframe thead th {\n",
       "        text-align: right;\n",
       "    }\n",
       "</style>\n",
       "<table border=\"1\" class=\"dataframe\">\n",
       "  <thead>\n",
       "    <tr style=\"text-align: right;\">\n",
       "      <th></th>\n",
       "      <th>Date Time</th>\n",
       "      <th>p (mbar)</th>\n",
       "      <th>T (degC)</th>\n",
       "      <th>Tpot (K)</th>\n",
       "      <th>Tdew (degC)</th>\n",
       "      <th>rh (%)</th>\n",
       "      <th>VPmax (mbar)</th>\n",
       "      <th>VPact (mbar)</th>\n",
       "      <th>VPdef (mbar)</th>\n",
       "      <th>sh (g/kg)</th>\n",
       "      <th>H2OC (mmol/mol)</th>\n",
       "      <th>rho (g/m**3)</th>\n",
       "      <th>wv (m/s)</th>\n",
       "      <th>max. wv (m/s)</th>\n",
       "      <th>wd (deg)</th>\n",
       "    </tr>\n",
       "  </thead>\n",
       "  <tbody>\n",
       "    <tr>\n",
       "      <th>0</th>\n",
       "      <td>01.01.2009 00:10:00</td>\n",
       "      <td>996.52</td>\n",
       "      <td>-8.02</td>\n",
       "      <td>265.40</td>\n",
       "      <td>-8.90</td>\n",
       "      <td>93.3</td>\n",
       "      <td>3.33</td>\n",
       "      <td>3.11</td>\n",
       "      <td>0.22</td>\n",
       "      <td>1.94</td>\n",
       "      <td>3.12</td>\n",
       "      <td>1307.75</td>\n",
       "      <td>1.03</td>\n",
       "      <td>1.75</td>\n",
       "      <td>152.3</td>\n",
       "    </tr>\n",
       "    <tr>\n",
       "      <th>1</th>\n",
       "      <td>01.01.2009 00:20:00</td>\n",
       "      <td>996.57</td>\n",
       "      <td>-8.41</td>\n",
       "      <td>265.01</td>\n",
       "      <td>-9.28</td>\n",
       "      <td>93.4</td>\n",
       "      <td>3.23</td>\n",
       "      <td>3.02</td>\n",
       "      <td>0.21</td>\n",
       "      <td>1.89</td>\n",
       "      <td>3.03</td>\n",
       "      <td>1309.80</td>\n",
       "      <td>0.72</td>\n",
       "      <td>1.50</td>\n",
       "      <td>136.1</td>\n",
       "    </tr>\n",
       "    <tr>\n",
       "      <th>2</th>\n",
       "      <td>01.01.2009 00:30:00</td>\n",
       "      <td>996.53</td>\n",
       "      <td>-8.51</td>\n",
       "      <td>264.91</td>\n",
       "      <td>-9.31</td>\n",
       "      <td>93.9</td>\n",
       "      <td>3.21</td>\n",
       "      <td>3.01</td>\n",
       "      <td>0.20</td>\n",
       "      <td>1.88</td>\n",
       "      <td>3.02</td>\n",
       "      <td>1310.24</td>\n",
       "      <td>0.19</td>\n",
       "      <td>0.63</td>\n",
       "      <td>171.6</td>\n",
       "    </tr>\n",
       "    <tr>\n",
       "      <th>3</th>\n",
       "      <td>01.01.2009 00:40:00</td>\n",
       "      <td>996.51</td>\n",
       "      <td>-8.31</td>\n",
       "      <td>265.12</td>\n",
       "      <td>-9.07</td>\n",
       "      <td>94.2</td>\n",
       "      <td>3.26</td>\n",
       "      <td>3.07</td>\n",
       "      <td>0.19</td>\n",
       "      <td>1.92</td>\n",
       "      <td>3.08</td>\n",
       "      <td>1309.19</td>\n",
       "      <td>0.34</td>\n",
       "      <td>0.50</td>\n",
       "      <td>198.0</td>\n",
       "    </tr>\n",
       "    <tr>\n",
       "      <th>4</th>\n",
       "      <td>01.01.2009 00:50:00</td>\n",
       "      <td>996.51</td>\n",
       "      <td>-8.27</td>\n",
       "      <td>265.15</td>\n",
       "      <td>-9.04</td>\n",
       "      <td>94.1</td>\n",
       "      <td>3.27</td>\n",
       "      <td>3.08</td>\n",
       "      <td>0.19</td>\n",
       "      <td>1.92</td>\n",
       "      <td>3.09</td>\n",
       "      <td>1309.00</td>\n",
       "      <td>0.32</td>\n",
       "      <td>0.63</td>\n",
       "      <td>214.3</td>\n",
       "    </tr>\n",
       "  </tbody>\n",
       "</table>\n",
       "</div>"
      ],
      "text/plain": [
       "             Date Time  p (mbar)  T (degC)  Tpot (K)  Tdew (degC)  rh (%)  \\\n",
       "0  01.01.2009 00:10:00    996.52     -8.02    265.40        -8.90    93.3   \n",
       "1  01.01.2009 00:20:00    996.57     -8.41    265.01        -9.28    93.4   \n",
       "2  01.01.2009 00:30:00    996.53     -8.51    264.91        -9.31    93.9   \n",
       "3  01.01.2009 00:40:00    996.51     -8.31    265.12        -9.07    94.2   \n",
       "4  01.01.2009 00:50:00    996.51     -8.27    265.15        -9.04    94.1   \n",
       "\n",
       "   VPmax (mbar)  VPact (mbar)  VPdef (mbar)  sh (g/kg)  H2OC (mmol/mol)  \\\n",
       "0          3.33          3.11          0.22       1.94             3.12   \n",
       "1          3.23          3.02          0.21       1.89             3.03   \n",
       "2          3.21          3.01          0.20       1.88             3.02   \n",
       "3          3.26          3.07          0.19       1.92             3.08   \n",
       "4          3.27          3.08          0.19       1.92             3.09   \n",
       "\n",
       "   rho (g/m**3)  wv (m/s)  max. wv (m/s)  wd (deg)  \n",
       "0       1307.75      1.03           1.75     152.3  \n",
       "1       1309.80      0.72           1.50     136.1  \n",
       "2       1310.24      0.19           0.63     171.6  \n",
       "3       1309.19      0.34           0.50     198.0  \n",
       "4       1309.00      0.32           0.63     214.3  "
      ]
     },
     "execution_count": 14,
     "metadata": {},
     "output_type": "execute_result"
    }
   ],
   "source": [
    "# data = pd.read_csv(fname)\n",
    "# data.head()"
   ]
  },
  {
   "cell_type": "code",
   "execution_count": 6,
   "metadata": {},
   "outputs": [],
   "source": [
    "import numpy as np"
   ]
  },
  {
   "cell_type": "code",
   "execution_count": 7,
   "metadata": {},
   "outputs": [],
   "source": [
    "float_data = np.zeros((len(lines), len(header) - 1))\n",
    "for i, line in enumerate(lines):\n",
    "    values = [float(x) for x in line.split(',')[1:]]\n",
    "    float_data[i, :] = values"
   ]
  },
  {
   "cell_type": "code",
   "execution_count": 8,
   "metadata": {},
   "outputs": [
    {
     "data": {
      "text/plain": [
       "array([ 9.96520e+02, -8.02000e+00,  2.65400e+02, -8.90000e+00,\n",
       "        9.33000e+01,  3.33000e+00,  3.11000e+00,  2.20000e-01,\n",
       "        1.94000e+00,  3.12000e+00,  1.30775e+03,  1.03000e+00,\n",
       "        1.75000e+00,  1.52300e+02])"
      ]
     },
     "execution_count": 8,
     "metadata": {},
     "output_type": "execute_result"
    }
   ],
   "source": [
    "float_data[0]"
   ]
  },
  {
   "cell_type": "code",
   "execution_count": 9,
   "metadata": {},
   "outputs": [
    {
     "data": {
      "text/plain": [
       "(420551,)"
      ]
     },
     "execution_count": 9,
     "metadata": {},
     "output_type": "execute_result"
    }
   ],
   "source": [
    "import matplotlib.pyplot as plt\n",
    "\n",
    "temp = float_data[:, 1]\n",
    "temp.shape"
   ]
  },
  {
   "cell_type": "code",
   "execution_count": 10,
   "metadata": {},
   "outputs": [
    {
     "data": {
      "text/plain": [
       "[<matplotlib.lines.Line2D at 0x1f6662d5668>]"
      ]
     },
     "execution_count": 10,
     "metadata": {},
     "output_type": "execute_result"
    },
    {
     "data": {
      "image/png": "[encoded data removed]",
      "text/plain": [
       "<Figure size 432x288 with 1 Axes>"
      ]
     },
     "metadata": {
      "needs_background": "light"
     },
     "output_type": "display_data"
    }
   ],
   "source": [
    "plt.plot(range(len(temp)), temp)"
   ]
  },
  {
   "cell_type": "code",
   "execution_count": 11,
   "metadata": {},
   "outputs": [
    {
     "data": {
      "text/plain": [
       "[<matplotlib.lines.Line2D at 0x1f6663422b0>]"
      ]
     },
     "execution_count": 11,
     "metadata": {},
     "output_type": "execute_result"
    },
    {
     "data": {
      "image/png": "[encoded data removed]",
      "text/plain": [
       "<Figure size 432x288 with 1 Axes>"
      ]
     },
     "metadata": {
      "needs_background": "light"
     },
     "output_type": "display_data"
    }
   ],
   "source": [
    "plt.plot(range(1440), temp[:1440])"
   ]
  },
  {
   "cell_type": "code",
   "execution_count": 12,
   "metadata": {},
   "outputs": [],
   "source": [
    "# axis=0代表跨行（down)，而axis=1代表跨列（across)\n",
    "mean = float_data[:20000].mean(axis=0)\n",
    "float_data -= mean\n",
    "std = float_data[:20000].std(axis=0)\n",
    "float_data /= std"
   ]
  },
  {
   "cell_type": "code",
   "execution_count": 13,
   "metadata": {},
   "outputs": [],
   "source": [
    "#yield 的作用就是把一个函数变成一个 generator，\n",
    "#带有 yield 的函数不再是一个普通函数，Python 解释器会将其视为一个 generator\n",
    "def generator(data, lookback, delay, min_index, max_index, \n",
    "              shuffle=False, batch_size=128, step=6):\n",
    "    if max_index is None:\n",
    "        max_index = len(data) - delay - 1\n",
    "    i = min_index + lookback\n",
    "    while 1:\n",
    "        if shuffle:\n",
    "            #numpy.random.randint(low, high=None, size=None, dtype='l')\n",
    "            #产生离散均匀分布的整数，这些整数大于等于low，小于high。\n",
    "            rows = np.random.randint(\n",
    "                min_index + lookback, max_index, size=batch_size)\n",
    "        else:\n",
    "            if i + batch_size >= max_index:\n",
    "                i = min_index + lookback\n",
    "            #np.arange()返回一个有终点和起点的固定步长的排列 \n",
    "            #两个参数时，第一个参数为起点，第二个参数为终点，步长取默认值1。 \n",
    "            rows = np.arange(i, min(i + batch_size, max_index))\n",
    "            i += len(rows)\n",
    "        \n",
    "        samples = np.zeros((len(rows),\n",
    "                            lookback // step,\n",
    "                            data.shape[-1])) #data.shape[-1] = 14\n",
    "        targets = np.zeros((len(rows,)))\n",
    "        for j, row in enumerate(rows):\n",
    "            indices = range(rows[j] - lookback, rows[j], step)\n",
    "            samples[j] = data[indices]\n",
    "            targets[j] = data[rows[j] + delay][1]\n",
    "        yield samples, targets"
   ]
  },
  {
   "cell_type": "code",
   "execution_count": 14,
   "metadata": {},
   "outputs": [
    {
     "data": {
      "text/plain": [
       "(420551, 14)"
      ]
     },
     "execution_count": 14,
     "metadata": {},
     "output_type": "execute_result"
    }
   ],
   "source": [
    "float_data.shape"
   ]
  },
  {
   "cell_type": "code",
   "execution_count": 15,
   "metadata": {},
   "outputs": [],
   "source": [
    "#一个时间步10分钟\n",
    "lookback = 1440 #过去lookback个时间步  过去10天\n",
    "step = 6  #数据采样周期， 每小时抽取一个数据点\n",
    "delay = 144 #目标在未来多少个时间步之后   144个时间步为1天\n",
    "batch_size = 128\n",
    "\n",
    "train_gen = generator(float_data,\n",
    "                      lookback=lookback,\n",
    "                      delay=delay,\n",
    "                      min_index=0, #data数组中的索引， 界定需要抽取哪些时间步\n",
    "                      max_index=200000,\n",
    "                      shuffle=True,\n",
    "                      step=step,\n",
    "                      batch_size=batch_size)\n",
    "\n",
    "val_gen = generator(float_data,\n",
    "                    lookback=lookback,\n",
    "                    delay=delay,\n",
    "                    min_index=200001,\n",
    "                    max_index=300000,\n",
    "                    #shuffle=True,\n",
    "                    step=step,\n",
    "                    batch_size=batch_size)\n",
    "\n",
    "test_gen = generator(float_data,\n",
    "                     lookback=lookback,\n",
    "                     delay=delay,\n",
    "                     min_index=300001,\n",
    "                     max_index=None,\n",
    "                     #shuffle=True,\n",
    "                     step=step,\n",
    "                     batch_size=batch_size)\n",
    "\n",
    "val_steps = (30000 - 20001 - lookback) // batch_size\n",
    "\n",
    "test_steps = (len(float_data) - 300001 - lookback) // batch_size"
   ]
  },
  {
   "cell_type": "code",
   "execution_count": 16,
   "metadata": {},
   "outputs": [
    {
     "data": {
      "text/plain": [
       "<generator object generator at 0x000001F666203A98>"
      ]
     },
     "execution_count": 16,
     "metadata": {},
     "output_type": "execute_result"
    }
   ],
   "source": [
    "train_gen"
   ]
  },
  {
   "cell_type": "code",
   "execution_count": 17,
   "metadata": {},
   "outputs": [
    {
     "name": "stdout",
     "output_type": "stream",
     "text": [
      "66 930\n"
     ]
    }
   ],
   "source": [
    "print(val_steps, test_steps)"
   ]
  },
  {
   "cell_type": "markdown",
   "metadata": {},
   "source": [
    "# 一种基于常识的、非机器学习的基准方法"
   ]
  },
  {
   "cell_type": "code",
   "execution_count": 41,
   "metadata": {},
   "outputs": [
    {
     "name": "stdout",
     "output_type": "stream",
     "text": [
      "0.32954975334820413\n"
     ]
    }
   ],
   "source": [
    "def evaluate_naive_method():\n",
    "    batch_maes = []\n",
    "    for step in range(val_steps):\n",
    "        #next() 返回迭代器的下一个项目\n",
    "        samples, targets = next(val_gen)\n",
    "        preds = samples[:, -1, 1]\n",
    "        mae = np.mean(np.abs(preds - targets))\n",
    "        batch_maes.append(mae)\n",
    "    print(np.mean(batch_maes))\n",
    "evaluate_naive_method()"
   ]
  },
  {
   "cell_type": "code",
   "execution_count": 43,
   "metadata": {},
   "outputs": [
    {
     "data": {
      "text/plain": [
       "2.216925247668638"
      ]
     },
     "execution_count": 43,
     "metadata": {},
     "output_type": "execute_result"
    }
   ],
   "source": [
    "celsius = 0.29 * std[1]\n",
    "celsius"
   ]
  },
  {
   "cell_type": "code",
   "execution_count": 45,
   "metadata": {},
   "outputs": [
    {
     "data": {
      "text/plain": [
       "(array([[[ 1.88144792, -0.40946326, -0.59973313, ..., -0.09569627,\n",
       "          -0.24303026,  1.95313051],\n",
       "         [ 1.9456427 , -0.41862009, -0.61634008, ...,  0.08186811,\n",
       "          -0.05570858, -1.85769587],\n",
       "         [ 1.97534476, -0.48402599, -0.68276789, ...,  0.62139064,\n",
       "           0.19851371, -1.82149302],\n",
       "         ...,\n",
       "         [ 0.14148199,  0.58339836,  0.55508879, ..., -0.38253104,\n",
       "          -0.33223106,  0.71237027],\n",
       "         [ 0.15489582,  0.53368987,  0.50526793, ..., -0.22545486,\n",
       "          -0.26087042,  0.52407062],\n",
       "         [ 0.18268162,  0.42904043,  0.39923893, ...,  0.31406768,\n",
       "          -0.10030898,  0.60364964]],\n",
       " \n",
       "        [[ 0.33885698, -0.83721788, -0.85777962, ..., -1.39328212,\n",
       "          -1.52752179, -1.92270409],\n",
       "         [ 0.36281025, -0.90654813, -0.9280398 , ..., -1.39328212,\n",
       "          -1.52752179, -1.92270409],\n",
       "         [ 0.37239156, -0.92093743, -0.94336929, ..., -1.39328212,\n",
       "          -1.52752179, -1.92270409],\n",
       "         ...,\n",
       "         [-2.35828185, -0.61352968, -0.34935139, ..., -0.92888298,\n",
       "          -0.97001678,  0.33577096],\n",
       "         [-2.36403064, -0.63315145, -0.3672358 , ..., -1.01766517,\n",
       "          -0.91203626, -0.3468153 ],\n",
       "         [-2.41193719, -0.70117359, -0.42983123, ..., -1.01766517,\n",
       "          -1.13503827,  0.35370426]],\n",
       " \n",
       "        [[ 0.06387337,  1.37873415,  1.34328029, ...,  2.08288207,\n",
       "           1.70600724, -1.75973522],\n",
       "         [ 0.07441281,  1.28193342,  1.24747095, ...,  2.11702907,\n",
       "           1.70600724, -1.78629892],\n",
       "         [ 0.07345468,  1.24007364,  1.2065923 , ...,  1.8165355 ,\n",
       "           1.65248676, -1.77878935],\n",
       "         ...,\n",
       "         [ 1.19446798,  0.92743342,  0.77736645, ..., -1.33864693,\n",
       "          -1.30451979, -1.47100908],\n",
       "         [ 1.19542611,  0.79138914,  0.64451084, ..., -1.33181753,\n",
       "          -1.19301879, -1.37966133],\n",
       "         [ 1.20021677,  0.58732271,  0.44394995, ..., -0.84010079,\n",
       "          -1.02353726,  0.49044568]],\n",
       " \n",
       "        ...,\n",
       " \n",
       "        [[-0.16511994,  0.24982825,  0.26127348, ...,  0.64870824,\n",
       "           0.77831891,  0.24498363],\n",
       "         [-0.26189117,  0.23543895,  0.2574411 , ...,  0.25943249,\n",
       "           0.65343779,  0.06789228],\n",
       "         [-0.30404894,  0.20535224,  0.2331694 , ...,  1.59799473,\n",
       "           1.17080243,  0.38508754],\n",
       "         ...,\n",
       "         [ 0.07824534,  0.03006441,  0.01983394, ..., -0.84693019,\n",
       "          -0.74255474,  0.37387922],\n",
       "         [ 0.1481889 , -0.04580644, -0.06192336, ..., -0.99034757,\n",
       "          -0.90311618, -0.84558522],\n",
       "         [ 0.22579752, -0.05496326, -0.07980778, ..., -0.97668877,\n",
       "          -0.90311618,  0.97688646]],\n",
       " \n",
       "        [[-0.46214056, -0.1373747 , -0.08619506, ..., -0.47814263,\n",
       "          -0.70687442, -0.41742767],\n",
       "         [-0.45639177, -0.03403337,  0.01472411, ...,  0.30723828,\n",
       "           0.0424123 ,  0.30775018],\n",
       "         [-0.44968485,  0.0509943 ,  0.09775887, ...,  0.54626725,\n",
       "           0.23865407, -0.06436581],\n",
       "         ...,\n",
       "         [ 0.76235089, -0.16746142, -0.2458773 , ..., -0.90839478,\n",
       "          -0.4927925 , -1.5319823 ],\n",
       "         [ 0.76043463, -0.23417544, -0.31102765, ..., -0.47814263,\n",
       "          -0.29655074,  0.38284587],\n",
       "         [ 0.74702079, -0.19100754, -0.26759408, ...,  0.46431446,\n",
       "           0.23865407,  0.14186715]],\n",
       " \n",
       "        [[ 0.94439578, -0.1373747 , -0.23565763, ..., -0.17081966,\n",
       "           0.20297375, -0.02737838],\n",
       "         [ 0.98846981, -0.20016437, -0.30208544, ..., -0.32789585,\n",
       "          -0.01110818,  0.55321223],\n",
       "         [ 1.02104627, -0.26818651, -0.37234563, ..., -0.41667804,\n",
       "          -0.38575154,  0.50949981],\n",
       "         ...,\n",
       "         [-0.16128742,  0.64487991,  0.64834321, ..., -0.92888298,\n",
       "          -0.95663666, -0.89602263],\n",
       "         [-0.10763208,  0.59647954,  0.59468998, ..., -0.96302997,\n",
       "          -1.0279973 , -1.15482257],\n",
       "         [-0.03864665,  0.55069541,  0.54231421, ..., -0.98351817,\n",
       "          -1.08151779,  1.63481442]]]),\n",
       " array([ 0.6514205 , -0.39899832,  0.65534486,  2.07857733, -1.18779352,\n",
       "        -0.99026769, -0.36106289,  0.8973467 , -0.09028245,  0.30607733,\n",
       "        -0.68940053,  0.61217696,  1.66259578,  1.73715851,  0.64226367,\n",
       "         2.20808102,  1.19559762, -0.88823448,  0.83586515,  0.51668434,\n",
       "         0.69851275,  0.71813452,  0.03006441, -0.0288009 ,  1.16027843,\n",
       "         0.9915312 ,  0.23936331,  0.04576183,  2.26694633,  0.63179873,\n",
       "        -0.51672895,  0.2315146 ,  0.93789836, -1.35784887,  2.18584301,\n",
       "         1.09487253, -1.21395588,  1.5121622 ,  3.39192788,  2.14005888,\n",
       "         0.95621201,  0.46697585,  0.59778766,  1.92552751,  0.94182271,\n",
       "         0.3113098 ,  1.27146847,  0.83063268,  0.53761423, -1.07267913,\n",
       "         0.04576183,  1.16551091,  1.4689943 ,  1.62596847, -0.77442821,\n",
       "         2.6122895 ,  1.1864408 , -1.08576031,  0.35578581,  2.65938175,\n",
       "         0.52191681,  0.66188545, -0.43300939,  0.75214559,  2.31011423,\n",
       "         1.76593711,  0.99676367,  1.77509393,  1.00461238,  0.71551829,\n",
       "         0.47351644, -0.06804444, -0.43039315, -0.151764  ,  0.41203489,\n",
       "         0.56508471,  1.54748139,  1.42713452, -0.65931382,  1.2230681 ,\n",
       "        -0.67108688, -0.31658688,  1.36826921,  1.32248508,  1.4402157 ,\n",
       "         2.59397585,  0.78615666,  1.87451091, -0.12560164,  1.7293098 ,\n",
       "         0.3256991 ,  0.91304412,  1.64166589,  0.18965482,  0.29561238,\n",
       "        -0.52719389,  0.97452567,  0.36101829, -2.36248356,  1.31071201,\n",
       "        -0.77442821,  1.23222493,  0.68281533,  1.52131902,  0.70112899,\n",
       "        -0.68547618,  0.44997032,  2.31142235,  0.46566773,  1.89805703,\n",
       "        -0.00525478,  1.2950146 ,  1.75285592, -1.09099278,  0.0653836 ,\n",
       "         0.66450168, -0.07981751, -0.3035057 ,  2.329736  ,  2.26171386,\n",
       "        -0.83721788, -1.41017359,  2.48540205,  1.41928581, -1.27936179,\n",
       "         0.37802382,  0.28383932,  0.41072677]))"
      ]
     },
     "execution_count": 45,
     "metadata": {},
     "output_type": "execute_result"
    }
   ],
   "source": [
    "next(train_gen)"
   ]
  },
  {
   "cell_type": "code",
   "execution_count": 47,
   "metadata": {},
   "outputs": [
    {
     "data": {
      "text/plain": [
       "2"
      ]
     },
     "execution_count": 47,
     "metadata": {},
     "output_type": "execute_result"
    }
   ],
   "source": [
    "len(next(train_gen))"
   ]
  },
  {
   "cell_type": "code",
   "execution_count": 50,
   "metadata": {},
   "outputs": [
    {
     "data": {
      "text/plain": [
       "(128, 240, 14)"
      ]
     },
     "execution_count": 50,
     "metadata": {},
     "output_type": "execute_result"
    }
   ],
   "source": [
    "next(train_gen)[0].shape"
   ]
  },
  {
   "cell_type": "code",
   "execution_count": 51,
   "metadata": {},
   "outputs": [
    {
     "data": {
      "text/plain": [
       "(128,)"
      ]
     },
     "execution_count": 51,
     "metadata": {},
     "output_type": "execute_result"
    }
   ],
   "source": [
    "next(train_gen)[1].shape"
   ]
  },
  {
   "cell_type": "code",
   "execution_count": 18,
   "metadata": {},
   "outputs": [
    {
     "name": "stderr",
     "output_type": "stream",
     "text": [
      "Using TensorFlow backend.\n"
     ]
    }
   ],
   "source": [
    "from keras.models import Sequential\n",
    "from keras import layers\n",
    "from keras.optimizers import RMSprop"
   ]
  },
  {
   "cell_type": "code",
   "execution_count": 56,
   "metadata": {},
   "outputs": [
    {
     "name": "stdout",
     "output_type": "stream",
     "text": [
      "Epoch 1/20\n",
      "500/500 [==============================] - 5s 10ms/step - loss: 1.1121 - val_loss: 1.1282\n",
      "Epoch 2/20\n",
      "500/500 [==============================] - 5s 10ms/step - loss: 0.4549 - val_loss: 0.6379\n",
      "Epoch 3/20\n",
      "500/500 [==============================] - 5s 10ms/step - loss: 0.3178 - val_loss: 0.3998\n",
      "Epoch 4/20\n",
      "500/500 [==============================] - 5s 10ms/step - loss: 0.2902 - val_loss: 0.3341\n",
      "Epoch 5/20\n",
      "500/500 [==============================] - 5s 10ms/step - loss: 0.2771 - val_loss: 0.3420\n",
      "Epoch 6/20\n",
      "500/500 [==============================] - 5s 10ms/step - loss: 0.2658 - val_loss: 0.4234\n",
      "Epoch 7/20\n",
      "500/500 [==============================] - 5s 10ms/step - loss: 0.2584 - val_loss: 0.4040\n",
      "Epoch 8/20\n",
      "500/500 [==============================] - 5s 11ms/step - loss: 0.2510 - val_loss: 0.4290\n",
      "Epoch 9/20\n",
      "500/500 [==============================] - 5s 11ms/step - loss: 0.2436 - val_loss: 0.4294\n",
      "Epoch 10/20\n",
      "500/500 [==============================] - 5s 11ms/step - loss: 0.2388 - val_loss: 0.4045\n",
      "Epoch 11/20\n",
      "500/500 [==============================] - 5s 10ms/step - loss: 0.2354 - val_loss: 0.3029\n",
      "Epoch 12/20\n",
      "500/500 [==============================] - 5s 10ms/step - loss: 0.2307 - val_loss: 0.4725\n",
      "Epoch 13/20\n",
      "500/500 [==============================] - 5s 11ms/step - loss: 0.2294 - val_loss: 0.4068\n",
      "Epoch 14/20\n",
      "500/500 [==============================] - 5s 11ms/step - loss: 0.2249 - val_loss: 0.4527\n",
      "Epoch 15/20\n",
      "500/500 [==============================] - 5s 10ms/step - loss: 0.2227 - val_loss: 0.3942\n",
      "Epoch 16/20\n",
      "500/500 [==============================] - 5s 11ms/step - loss: 0.2219 - val_loss: 0.3166\n",
      "Epoch 17/20\n",
      "500/500 [==============================] - 5s 11ms/step - loss: 0.2198 - val_loss: 0.3768\n",
      "Epoch 18/20\n",
      "500/500 [==============================] - 5s 11ms/step - loss: 0.2165 - val_loss: 0.4191\n",
      "Epoch 19/20\n",
      "500/500 [==============================] - 5s 11ms/step - loss: 0.2158 - val_loss: 0.3863\n",
      "Epoch 20/20\n",
      "500/500 [==============================] - 5s 11ms/step - loss: 0.2124 - val_loss: 0.5289\n"
     ]
    }
   ],
   "source": [
    "model = Sequential()\n",
    "model.add(layers.Flatten(input_shape=(lookback // step, float_data.shape[-1])))\n",
    "model.add(layers.Dense(32, activation='relu'))\n",
    "model.add(layers.Dense(1))\n",
    "\n",
    "model.compile(optimizer=RMSprop(), loss='mae')\n",
    "history = model.fit_generator(train_gen,\n",
    "                              steps_per_epoch=500,\n",
    "                              epochs=20,\n",
    "                              validation_data=val_gen,\n",
    "                              validation_steps=val_steps)"
   ]
  },
  {
   "cell_type": "code",
   "execution_count": 57,
   "metadata": {},
   "outputs": [
    {
     "data": {
      "image/png": "[encoded data removed]",
      "text/plain": [
       "<Figure size 432x288 with 1 Axes>"
      ]
     },
     "metadata": {
      "needs_background": "light"
     },
     "output_type": "display_data"
    }
   ],
   "source": [
    "import matplotlib.pyplot as plt\n",
    "\n",
    "loss = history.history['loss']\n",
    "val_loss = history.history['val_loss']\n",
    "\n",
    "epochs = range(1, len(loss) + 1)\n",
    "\n",
    "plt.figure()\n",
    "\n",
    "plt.plot(epochs, loss, 'bo', label='Training loss')\n",
    "plt.plot(epochs, val_loss, 'b', label='Validation loss')\n",
    "plt.title('Training and validation loss')\n",
    "plt.legend()\n",
    "\n",
    "plt.show()"
   ]
  },
  {
   "cell_type": "code",
   "execution_count": 19,
   "metadata": {},
   "outputs": [],
   "source": [
    "from keras.models import Sequential\n",
    "from keras import layers\n",
    "from keras.optimizers import RMSprop"
   ]
  },
  {
   "cell_type": "code",
   "execution_count": 24,
   "metadata": {},
   "outputs": [
    {
     "name": "stdout",
     "output_type": "stream",
     "text": [
      "Epoch 1/20\n",
      "500/500 [==============================] - 94s 189ms/step - loss: 0.3650 - val_loss: 0.3281\n",
      "Epoch 2/20\n",
      "500/500 [==============================] - 84s 168ms/step - loss: 0.3298 - val_loss: 0.2509\n",
      "Epoch 3/20\n",
      "500/500 [==============================] - 84s 168ms/step - loss: 0.3216 - val_loss: 0.2930\n",
      "Epoch 4/20\n",
      "500/500 [==============================] - 84s 168ms/step - loss: 0.3202 - val_loss: 0.3597\n",
      "Epoch 5/20\n",
      "500/500 [==============================] - 84s 167ms/step - loss: 0.3137 - val_loss: 0.3064\n",
      "Epoch 6/20\n",
      "500/500 [==============================] - 84s 168ms/step - loss: 0.3079 - val_loss: 0.2692\n",
      "Epoch 7/20\n",
      "500/500 [==============================] - 84s 168ms/step - loss: 0.3029 - val_loss: 0.3633\n",
      "Epoch 8/20\n",
      "500/500 [==============================] - 78s 157ms/step - loss: 0.2997 - val_loss: 0.3304\n",
      "Epoch 9/20\n",
      "500/500 [==============================] - 83s 167ms/step - loss: 0.2952 - val_loss: 0.3047\n",
      "Epoch 10/20\n",
      "500/500 [==============================] - 84s 167ms/step - loss: 0.2885 - val_loss: 0.3554\n",
      "Epoch 11/20\n",
      "500/500 [==============================] - 80s 159ms/step - loss: 0.2838 - val_loss: 0.2899\n",
      "Epoch 12/20\n",
      "500/500 [==============================] - 77s 154ms/step - loss: 0.2804 - val_loss: 0.2735\n",
      "Epoch 13/20\n",
      "500/500 [==============================] - 81s 161ms/step - loss: 0.2747 - val_loss: 0.3126\n",
      "Epoch 14/20\n",
      "500/500 [==============================] - 72s 144ms/step - loss: 0.2732 - val_loss: 0.3168\n",
      "Epoch 15/20\n",
      "500/500 [==============================] - 77s 155ms/step - loss: 0.2676 - val_loss: 0.2751\n",
      "Epoch 16/20\n",
      "500/500 [==============================] - 76s 151ms/step - loss: 0.2648 - val_loss: 0.3169\n",
      "Epoch 17/20\n",
      "500/500 [==============================] - 78s 155ms/step - loss: 0.2589 - val_loss: 0.3126\n",
      "Epoch 18/20\n",
      "500/500 [==============================] - 78s 155ms/step - loss: 0.2534 - val_loss: 0.3725\n",
      "Epoch 19/20\n",
      "500/500 [==============================] - 75s 150ms/step - loss: 0.2511 - val_loss: 0.3840\n",
      "Epoch 20/20\n",
      "500/500 [==============================] - 89s 177ms/step - loss: 0.2478 - val_loss: 0.3525\n"
     ]
    }
   ],
   "source": [
    "model = Sequential()\n",
    "model.add(layers.GRU(32, input_shape=(None, float_data.shape[-1])))\n",
    "model.add(layers.Dense(1))\n",
    "\n",
    "model.compile(optimizer=RMSprop(), loss='mae')\n",
    "history = model.fit_generator(train_gen,\n",
    "                              steps_per_epoch=500,\n",
    "                              epochs=20,\n",
    "                              validation_data=val_gen,\n",
    "                              validation_steps=val_steps)"
   ]
  },
  {
   "cell_type": "code",
   "execution_count": 25,
   "metadata": {},
   "outputs": [
    {
     "data": {
      "image/png": "[encoded data removed]",
      "text/plain": [
       "<Figure size 432x288 with 1 Axes>"
      ]
     },
     "metadata": {
      "needs_background": "light"
     },
     "output_type": "display_data"
    }
   ],
   "source": [
    "import matplotlib.pyplot as plt\n",
    "\n",
    "loss = history.history['loss']\n",
    "val_loss = history.history['val_loss']\n",
    "\n",
    "epochs = range(1, len(loss) + 1)\n",
    "\n",
    "plt.figure()\n",
    "\n",
    "plt.plot(epochs, loss, 'bo', label='Training loss')\n",
    "plt.plot(epochs, val_loss, 'b', label='Validation loss')\n",
    "plt.title('Training and validation loss')\n",
    "plt.legend()\n",
    "\n",
    "plt.show()"
   ]
  },
  {
   "cell_type": "code",
   "execution_count": 26,
   "metadata": {},
   "outputs": [],
   "source": [
    "from keras.models import Sequential\n",
    "from keras import layers\n",
    "from keras.optimizers import RMSprop"
   ]
  },
  {
   "cell_type": "code",
   "execution_count": 27,
   "metadata": {},
   "outputs": [
    {
     "name": "stdout",
     "output_type": "stream",
     "text": [
      "Epoch 1/40\n",
      "500/500 [==============================] - 92s 184ms/step - loss: 0.3980 - val_loss: 0.3803\n",
      "Epoch 2/40\n",
      "500/500 [==============================] - 102s 204ms/step - loss: 0.3653 - val_loss: 0.3498\n",
      "Epoch 3/40\n",
      "500/500 [==============================] - 97s 193ms/step - loss: 0.3572 - val_loss: 0.2943\n",
      "Epoch 4/40\n",
      "500/500 [==============================] - 101s 201ms/step - loss: 0.3554 - val_loss: 0.3038\n",
      "Epoch 5/40\n",
      "500/500 [==============================] - 100s 201ms/step - loss: 0.3507 - val_loss: 0.2812\n",
      "Epoch 6/40\n",
      "500/500 [==============================] - 96s 192ms/step - loss: 0.3477 - val_loss: 0.2640\n",
      "Epoch 7/40\n",
      "500/500 [==============================] - 90s 181ms/step - loss: 0.3433 - val_loss: 0.3409\n",
      "Epoch 8/40\n",
      "500/500 [==============================] - 100s 200ms/step - loss: 0.3406 - val_loss: 0.3541\n",
      "Epoch 9/40\n",
      "500/500 [==============================] - 93s 185ms/step - loss: 0.3409 - val_loss: 0.2503\n",
      "Epoch 10/40\n",
      "500/500 [==============================] - 97s 194ms/step - loss: 0.3357 - val_loss: 0.3586\n",
      "Epoch 11/40\n",
      "500/500 [==============================] - 100s 200ms/step - loss: 0.3336 - val_loss: 0.3198\n",
      "Epoch 12/40\n",
      "500/500 [==============================] - 107s 213ms/step - loss: 0.3332 - val_loss: 0.2979\n",
      "Epoch 13/40\n",
      "500/500 [==============================] - 95s 191ms/step - loss: 0.3305 - val_loss: 0.3780\n",
      "Epoch 14/40\n",
      "500/500 [==============================] - 99s 198ms/step - loss: 0.3295 - val_loss: 0.3360\n",
      "Epoch 15/40\n",
      "500/500 [==============================] - 100s 201ms/step - loss: 0.3292 - val_loss: 0.2575\n",
      "Epoch 16/40\n",
      "500/500 [==============================] - 78s 157ms/step - loss: 0.3256 - val_loss: 0.3025\n",
      "Epoch 17/40\n",
      "500/500 [==============================] - 65s 131ms/step - loss: 0.3280 - val_loss: 0.2666\n",
      "Epoch 18/40\n",
      "500/500 [==============================] - 67s 134ms/step - loss: 0.3242 - val_loss: 0.2986\n",
      "Epoch 19/40\n",
      "500/500 [==============================] - 66s 131ms/step - loss: 0.3239 - val_loss: 0.3361\n",
      "Epoch 20/40\n",
      "500/500 [==============================] - 63s 126ms/step - loss: 0.3203 - val_loss: 0.3198\n",
      "Epoch 21/40\n",
      "500/500 [==============================] - 63s 126ms/step - loss: 0.3206 - val_loss: 0.3378\n",
      "Epoch 22/40\n",
      "500/500 [==============================] - 63s 126ms/step - loss: 0.3183 - val_loss: 0.3164\n",
      "Epoch 23/40\n",
      "500/500 [==============================] - 62s 125ms/step - loss: 0.3178 - val_loss: 0.3013\n",
      "Epoch 24/40\n",
      "500/500 [==============================] - 62s 123ms/step - loss: 0.3169 - val_loss: 0.3545\n",
      "Epoch 25/40\n",
      "500/500 [==============================] - 64s 127ms/step - loss: 0.3169 - val_loss: 0.3714\n",
      "Epoch 26/40\n",
      "500/500 [==============================] - 62s 124ms/step - loss: 0.3147 - val_loss: 0.3293\n",
      "Epoch 27/40\n",
      "500/500 [==============================] - 62s 123ms/step - loss: 0.3144 - val_loss: 0.2673\n",
      "Epoch 28/40\n",
      "500/500 [==============================] - 61s 121ms/step - loss: 0.3138 - val_loss: 0.2859\n",
      "Epoch 29/40\n",
      "500/500 [==============================] - 59s 118ms/step - loss: 0.3131 - val_loss: 0.2654\n",
      "Epoch 30/40\n",
      "500/500 [==============================] - 58s 117ms/step - loss: 0.3134 - val_loss: 0.3174\n",
      "Epoch 31/40\n",
      "500/500 [==============================] - 60s 119ms/step - loss: 0.3108 - val_loss: 0.2762\n",
      "Epoch 32/40\n",
      "500/500 [==============================] - 59s 118ms/step - loss: 0.3112 - val_loss: 0.3369\n",
      "Epoch 33/40\n",
      "500/500 [==============================] - 57s 115ms/step - loss: 0.3099 - val_loss: 0.3701\n",
      "Epoch 34/40\n",
      "500/500 [==============================] - 58s 116ms/step - loss: 0.3108 - val_loss: 0.2869\n",
      "Epoch 35/40\n",
      "500/500 [==============================] - 62s 125ms/step - loss: 0.3089 - val_loss: 0.3181\n",
      "Epoch 36/40\n",
      "500/500 [==============================] - 61s 123ms/step - loss: 0.3077 - val_loss: 0.3816\n",
      "Epoch 37/40\n",
      "500/500 [==============================] - 62s 124ms/step - loss: 0.3086 - val_loss: 0.3616\n",
      "Epoch 38/40\n",
      "500/500 [==============================] - 59s 117ms/step - loss: 0.3070 - val_loss: 0.2901\n",
      "Epoch 39/40\n",
      "500/500 [==============================] - 59s 117ms/step - loss: 0.3060 - val_loss: 0.2863\n",
      "Epoch 40/40\n",
      "500/500 [==============================] - 62s 124ms/step - loss: 0.3066 - val_loss: 0.3146\n"
     ]
    }
   ],
   "source": [
    "model = Sequential()\n",
    "model.add(layers.GRU(32,\n",
    "                     dropout=0.2,\n",
    "                     recurrent_dropout=0.2,\n",
    "                     input_shape=(None, float_data.shape[-1])))\n",
    "model.add(layers.Dense(1))\n",
    "\n",
    "model.compile(optimizer=RMSprop(), loss='mae')\n",
    "history = model.fit_generator(train_gen,\n",
    "                              steps_per_epoch=500,\n",
    "                              epochs=40,\n",
    "                              validation_data=val_gen,\n",
    "                              validation_steps=val_steps)"
   ]
  },
  {
   "cell_type": "code",
   "execution_count": 28,
   "metadata": {},
   "outputs": [
    {
     "data": {
      "image/png": "[encoded data removed]",
      "text/plain": [
       "<Figure size 432x288 with 1 Axes>"
      ]
     },
     "metadata": {
      "needs_background": "light"
     },
     "output_type": "display_data"
    }
   ],
   "source": [
    "import matplotlib.pyplot as plt\n",
    "\n",
    "loss = history.history['loss']\n",
    "val_loss = history.history['val_loss']\n",
    "\n",
    "epochs = range(1, len(loss) + 1)\n",
    "\n",
    "plt.figure()\n",
    "\n",
    "plt.plot(epochs, loss, 'bo', label='Training loss')\n",
    "plt.plot(epochs, val_loss, 'b', label='Validation loss')\n",
    "plt.title('Training and validation loss')\n",
    "plt.legend()\n",
    "\n",
    "plt.show()"
   ]
  },
  {
   "cell_type": "markdown",
   "metadata": {},
   "source": [
    "# 循环层堆叠"
   ]
  },
  {
   "cell_type": "code",
   "execution_count": 19,
   "metadata": {},
   "outputs": [
    {
     "name": "stderr",
     "output_type": "stream",
     "text": [
      "Using TensorFlow backend.\n"
     ]
    }
   ],
   "source": [
    "from keras.models import Sequential\n",
    "from keras import layers\n",
    "from keras.optimizers import RMSprop"
   ]
  },
  {
   "cell_type": "code",
   "execution_count": 31,
   "metadata": {},
   "outputs": [
    {
     "name": "stdout",
     "output_type": "stream",
     "text": [
      "Epoch 1/40\n",
      "500/500 [==============================] - 180s 360ms/step - loss: 0.3911 - val_loss: 0.3248\n",
      "Epoch 2/40\n",
      "500/500 [==============================] - 182s 363ms/step - loss: 0.3640 - val_loss: 0.3489\n",
      "Epoch 3/40\n",
      "500/500 [==============================] - 182s 364ms/step - loss: 0.3545 - val_loss: 0.3100\n",
      "Epoch 4/40\n",
      "500/500 [==============================] - 195s 389ms/step - loss: 0.3482 - val_loss: 0.2830\n",
      "Epoch 5/40\n",
      "500/500 [==============================] - 184s 368ms/step - loss: 0.3412 - val_loss: 0.3710\n",
      "Epoch 6/40\n",
      "500/500 [==============================] - 186s 372ms/step - loss: 0.3363 - val_loss: 0.2967\n",
      "Epoch 7/40\n",
      "500/500 [==============================] - 185s 371ms/step - loss: 0.3313 - val_loss: 0.3128\n",
      "Epoch 8/40\n",
      "500/500 [==============================] - 191s 382ms/step - loss: 0.3272 - val_loss: 0.4216\n",
      "Epoch 9/40\n",
      "500/500 [==============================] - 190s 380ms/step - loss: 0.3260 - val_loss: 0.3456\n",
      "Epoch 10/40\n",
      "500/500 [==============================] - 183s 366ms/step - loss: 0.3243 - val_loss: 0.2607\n",
      "Epoch 11/40\n",
      "500/500 [==============================] - 183s 366ms/step - loss: 0.3213 - val_loss: 0.2803\n",
      "Epoch 12/40\n",
      "500/500 [==============================] - 244s 488ms/step - loss: 0.3202 - val_loss: 0.3288\n",
      "Epoch 13/40\n",
      "500/500 [==============================] - 287s 575ms/step - loss: 0.3176 - val_loss: 0.3094\n",
      "Epoch 14/40\n",
      "500/500 [==============================] - 182s 364ms/step - loss: 0.3162 - val_loss: 0.2908\n",
      "Epoch 15/40\n",
      "500/500 [==============================] - 180s 360ms/step - loss: 0.3138 - val_loss: 0.3072\n",
      "Epoch 16/40\n",
      "500/500 [==============================] - 183s 366ms/step - loss: 0.3126 - val_loss: 0.3351\n",
      "Epoch 17/40\n",
      "500/500 [==============================] - 185s 370ms/step - loss: 0.3116 - val_loss: 0.2907\n",
      "Epoch 18/40\n",
      "500/500 [==============================] - 189s 377ms/step - loss: 0.3092 - val_loss: 0.3212\n",
      "Epoch 19/40\n",
      "500/500 [==============================] - 186s 372ms/step - loss: 0.3066 - val_loss: 0.3673\n",
      "Epoch 20/40\n",
      "500/500 [==============================] - 185s 369ms/step - loss: 0.3059 - val_loss: 0.3531\n",
      "Epoch 21/40\n",
      "500/500 [==============================] - 189s 378ms/step - loss: 0.3063 - val_loss: 0.3529\n",
      "Epoch 22/40\n",
      "500/500 [==============================] - 190s 381ms/step - loss: 0.3029 - val_loss: 0.2762\n",
      "Epoch 23/40\n",
      "500/500 [==============================] - 181s 363ms/step - loss: 0.3025 - val_loss: 0.2659\n",
      "Epoch 24/40\n",
      "500/500 [==============================] - 182s 364ms/step - loss: 0.3011 - val_loss: 0.3007\n",
      "Epoch 25/40\n",
      "500/500 [==============================] - 184s 368ms/step - loss: 0.3031 - val_loss: 0.3367\n",
      "Epoch 26/40\n",
      "500/500 [==============================] - 185s 370ms/step - loss: 0.3029 - val_loss: 0.3063\n",
      "Epoch 27/40\n",
      "500/500 [==============================] - 184s 369ms/step - loss: 0.2999 - val_loss: 0.2790\n",
      "Epoch 28/40\n",
      "500/500 [==============================] - 186s 372ms/step - loss: 0.2984 - val_loss: 0.3518\n",
      "Epoch 29/40\n",
      "500/500 [==============================] - 189s 378ms/step - loss: 0.2956 - val_loss: 0.3122\n",
      "Epoch 30/40\n",
      "500/500 [==============================] - 184s 368ms/step - loss: 0.2959 - val_loss: 0.3243\n",
      "Epoch 31/40\n",
      "500/500 [==============================] - 183s 367ms/step - loss: 0.2956 - val_loss: 0.3601\n",
      "Epoch 32/40\n",
      "500/500 [==============================] - 182s 364ms/step - loss: 0.2951 - val_loss: 0.3613\n",
      "Epoch 33/40\n",
      "500/500 [==============================] - 185s 369ms/step - loss: 0.2929 - val_loss: 0.2797\n",
      "Epoch 34/40\n",
      "500/500 [==============================] - 182s 365ms/step - loss: 0.2922 - val_loss: 0.3033\n",
      "Epoch 35/40\n",
      "500/500 [==============================] - 187s 374ms/step - loss: 0.2922 - val_loss: 0.2690\n",
      "Epoch 36/40\n",
      "500/500 [==============================] - 184s 367ms/step - loss: 0.2892 - val_loss: 0.3118\n",
      "Epoch 37/40\n",
      "500/500 [==============================] - 190s 379ms/step - loss: 0.2903 - val_loss: 0.3355\n",
      "Epoch 38/40\n",
      "500/500 [==============================] - 187s 373ms/step - loss: 0.2915 - val_loss: 0.3120\n",
      "Epoch 39/40\n",
      "500/500 [==============================] - 185s 369ms/step - loss: 0.2902 - val_loss: 0.3107\n",
      "Epoch 40/40\n",
      "500/500 [==============================] - 187s 375ms/step - loss: 0.2897 - val_loss: 0.3567\n"
     ]
    }
   ],
   "source": [
    "model = Sequential()\n",
    "model.add(layers.GRU(32,\n",
    "                     dropout=0.1,\n",
    "                     recurrent_dropout=0.5,\n",
    "                     return_sequences=True,\n",
    "                     input_shape=(None, float_data.shape[-1])))\n",
    "model.add(layers.GRU(64, activation='relu',\n",
    "                     dropout=0.1,\n",
    "                     recurrent_dropout=0.5))\n",
    "model.add(layers.Dense(1))\n",
    "\n",
    "model.compile(optimizer=RMSprop(), loss='mae')\n",
    "history = model.fit_generator(train_gen,\n",
    "                              steps_per_epoch=500,\n",
    "                              epochs=40,\n",
    "                              validation_data=val_gen,\n",
    "                              validation_steps=val_steps)"
   ]
  },
  {
   "cell_type": "code",
   "execution_count": 32,
   "metadata": {},
   "outputs": [
    {
     "data": {
      "image/png": "[encoded data removed]",
      "text/plain": [
       "<Figure size 432x288 with 1 Axes>"
      ]
     },
     "metadata": {
      "needs_background": "light"
     },
     "output_type": "display_data"
    }
   ],
   "source": [
    "import matplotlib.pyplot as plt\n",
    "\n",
    "loss = history.history['loss']\n",
    "val_loss = history.history['val_loss']\n",
    "\n",
    "epochs = range(1, len(loss) + 1)\n",
    "\n",
    "plt.figure()\n",
    "\n",
    "plt.plot(epochs, loss, 'bo', label='Training loss')\n",
    "plt.plot(epochs, val_loss, 'b', label='Validation loss')\n",
    "plt.title('Training and validation loss')\n",
    "plt.legend()\n",
    "\n",
    "plt.show()"
   ]
  },
  {
   "cell_type": "markdown",
   "metadata": {},
   "source": [
    "# 双向GRU"
   ]
  },
  {
   "cell_type": "code",
   "execution_count": 20,
   "metadata": {},
   "outputs": [
    {
     "name": "stdout",
     "output_type": "stream",
     "text": [
      "Epoch 1/40\n",
      "500/500 [==============================] - 123s 246ms/step - loss: 0.3407 - val_loss: 0.3269\n",
      "Epoch 2/40\n",
      "500/500 [==============================] - 122s 244ms/step - loss: 0.3166 - val_loss: 0.2653\n",
      "Epoch 3/40\n",
      "500/500 [==============================] - 124s 248ms/step - loss: 0.3107 - val_loss: 0.3176\n",
      "Epoch 4/40\n",
      "500/500 [==============================] - 129s 259ms/step - loss: 0.3009 - val_loss: 0.3453\n",
      "Epoch 5/40\n",
      "500/500 [==============================] - 136s 272ms/step - loss: 0.2948 - val_loss: 0.2964\n",
      "Epoch 6/40\n",
      "500/500 [==============================] - 126s 253ms/step - loss: 0.2867 - val_loss: 0.3011\n",
      "Epoch 7/40\n",
      "500/500 [==============================] - 124s 247ms/step - loss: 0.2774 - val_loss: 0.3762\n",
      "Epoch 8/40\n",
      "500/500 [==============================] - 125s 250ms/step - loss: 0.2702 - val_loss: 0.3526\n",
      "Epoch 9/40\n",
      "500/500 [==============================] - 123s 246ms/step - loss: 0.2612 - val_loss: 0.3178\n",
      "Epoch 10/40\n",
      "500/500 [==============================] - 133s 267ms/step - loss: 0.2558 - val_loss: 0.3464\n",
      "Epoch 11/40\n",
      "500/500 [==============================] - 137s 273ms/step - loss: 0.2477 - val_loss: 0.3470\n",
      "Epoch 12/40\n",
      "500/500 [==============================] - 137s 274ms/step - loss: 0.2417 - val_loss: 0.2862\n",
      "Epoch 13/40\n",
      "500/500 [==============================] - 137s 273ms/step - loss: 0.2351 - val_loss: 0.3627\n",
      "Epoch 14/40\n",
      "500/500 [==============================] - 137s 274ms/step - loss: 0.2296 - val_loss: 0.3604\n",
      "Epoch 15/40\n",
      "500/500 [==============================] - 137s 273ms/step - loss: 0.2237 - val_loss: 0.3227\n",
      "Epoch 16/40\n",
      "500/500 [==============================] - 137s 273ms/step - loss: 0.2181 - val_loss: 0.3810\n",
      "Epoch 17/40\n",
      "500/500 [==============================] - 137s 273ms/step - loss: 0.2144 - val_loss: 0.3262\n",
      "Epoch 18/40\n",
      "500/500 [==============================] - 137s 274ms/step - loss: 0.2066 - val_loss: 0.3773\n",
      "Epoch 19/40\n",
      "500/500 [==============================] - 137s 274ms/step - loss: 0.2075 - val_loss: 0.3890\n",
      "Epoch 20/40\n",
      "500/500 [==============================] - 137s 275ms/step - loss: 0.2016 - val_loss: 0.3579\n",
      "Epoch 21/40\n",
      "500/500 [==============================] - 137s 274ms/step - loss: 0.1972 - val_loss: 0.3744\n",
      "Epoch 22/40\n",
      "500/500 [==============================] - 137s 273ms/step - loss: 0.1941 - val_loss: 0.3395\n",
      "Epoch 23/40\n",
      "500/500 [==============================] - 137s 275ms/step - loss: 0.1925 - val_loss: 0.3340\n",
      "Epoch 24/40\n",
      "500/500 [==============================] - 137s 274ms/step - loss: 0.1887 - val_loss: 0.3482\n",
      "Epoch 25/40\n",
      "500/500 [==============================] - 140s 280ms/step - loss: 0.1865 - val_loss: 0.4244\n",
      "Epoch 26/40\n",
      "500/500 [==============================] - 148s 296ms/step - loss: 0.1825 - val_loss: 0.3691\n",
      "Epoch 27/40\n",
      "500/500 [==============================] - 148s 297ms/step - loss: 0.1812 - val_loss: 0.3661\n",
      "Epoch 28/40\n",
      "500/500 [==============================] - 148s 295ms/step - loss: 0.1799 - val_loss: 0.3865\n",
      "Epoch 29/40\n",
      "500/500 [==============================] - 148s 296ms/step - loss: 0.1773 - val_loss: 0.3331\n",
      "Epoch 30/40\n",
      "500/500 [==============================] - 149s 297ms/step - loss: 0.1745 - val_loss: 0.4136\n",
      "Epoch 31/40\n",
      "500/500 [==============================] - 148s 297ms/step - loss: 0.1734 - val_loss: 0.3520\n",
      "Epoch 32/40\n",
      "500/500 [==============================] - 149s 298ms/step - loss: 0.1709 - val_loss: 0.4072\n",
      "Epoch 33/40\n",
      "500/500 [==============================] - 149s 299ms/step - loss: 0.1694 - val_loss: 0.3943\n",
      "Epoch 34/40\n",
      "500/500 [==============================] - 148s 297ms/step - loss: 0.1674 - val_loss: 0.3786\n",
      "Epoch 35/40\n",
      "500/500 [==============================] - 148s 297ms/step - loss: 0.1654 - val_loss: 0.3337\n",
      "Epoch 36/40\n",
      "500/500 [==============================] - 148s 296ms/step - loss: 0.1653 - val_loss: 0.3791\n",
      "Epoch 37/40\n",
      "500/500 [==============================] - 146s 293ms/step - loss: 0.1625 - val_loss: 0.4253\n",
      "Epoch 38/40\n",
      "500/500 [==============================] - 128s 255ms/step - loss: 0.1617 - val_loss: 0.3488\n",
      "Epoch 39/40\n",
      "500/500 [==============================] - 121s 241ms/step - loss: 0.1597 - val_loss: 0.3853\n",
      "Epoch 40/40\n",
      "500/500 [==============================] - 152s 305ms/step - loss: 0.1578 - val_loss: 0.3563\n"
     ]
    }
   ],
   "source": [
    "model = Sequential()\n",
    "model.add(layers.Bidirectional(layers.GRU(32), input_shape=(None, float_data.shape[-1])))\n",
    "model.add(layers.Dense(1))\n",
    "\n",
    "model.compile(optimizer=RMSprop(), loss='mae')\n",
    "history = model.fit_generator(train_gen,\n",
    "                              steps_per_epoch=500,\n",
    "                              epochs=40,\n",
    "                              validation_data=val_gen,\n",
    "                              validation_steps=val_steps)"
   ]
  },
  {
   "cell_type": "code",
   "execution_count": 21,
   "metadata": {},
   "outputs": [
    {
     "data": {
      "image/png": "[encoded data removed]",
      "text/plain": [
       "<Figure size 432x288 with 1 Axes>"
      ]
     },
     "metadata": {
      "needs_background": "light"
     },
     "output_type": "display_data"
    }
   ],
   "source": [
    "import matplotlib.pyplot as plt\n",
    "\n",
    "loss = history.history['loss']\n",
    "val_loss = history.history['val_loss']\n",
    "\n",
    "epochs = range(1, len(loss) + 1)\n",
    "\n",
    "plt.figure()\n",
    "\n",
    "plt.plot(epochs, loss, 'bo', label='Training loss')\n",
    "plt.plot(epochs, val_loss, 'b', label='Validation loss')\n",
    "plt.title('Training and validation loss')\n",
    "plt.legend()\n",
    "\n",
    "plt.show()"
   ]
  },
  {
   "cell_type": "code",
   "execution_count": 22,
   "metadata": {},
   "outputs": [],
   "source": [
    "from keras.models import Sequential\n",
    "from keras import layers\n",
    "from keras.optimizers import RMSprop"
   ]
  },
  {
   "cell_type": "code",
   "execution_count": 24,
   "metadata": {},
   "outputs": [
    {
     "name": "stdout",
     "output_type": "stream",
     "text": [
      "Epoch 1/20\n",
      "500/500 [==============================] - 40s 80ms/step - loss: 0.4825 - val_loss: 0.5222\n",
      "Epoch 2/20\n",
      "500/500 [==============================] - 25s 50ms/step - loss: 0.4163 - val_loss: 0.3867\n",
      "Epoch 3/20\n",
      "500/500 [==============================] - 26s 53ms/step - loss: 0.3926 - val_loss: 0.4762\n",
      "Epoch 4/20\n",
      "500/500 [==============================] - 25s 51ms/step - loss: 0.3793 - val_loss: 0.5064\n",
      "Epoch 5/20\n",
      "500/500 [==============================] - 26s 52ms/step - loss: 0.3656 - val_loss: 0.5509\n",
      "Epoch 6/20\n",
      "500/500 [==============================] - 26s 52ms/step - loss: 0.3536 - val_loss: 0.5097\n",
      "Epoch 7/20\n",
      "500/500 [==============================] - 27s 54ms/step - loss: 0.3427 - val_loss: 0.4829\n",
      "Epoch 8/20\n",
      "500/500 [==============================] - 27s 54ms/step - loss: 0.3369 - val_loss: 0.4651\n",
      "Epoch 9/20\n",
      "500/500 [==============================] - 26s 53ms/step - loss: 0.3291 - val_loss: 0.6343\n",
      "Epoch 10/20\n",
      "500/500 [==============================] - 27s 54ms/step - loss: 0.3250 - val_loss: 0.5205\n",
      "Epoch 11/20\n",
      "500/500 [==============================] - 26s 53ms/step - loss: 0.3183 - val_loss: 0.6324\n",
      "Epoch 12/20\n",
      "500/500 [==============================] - 25s 49ms/step - loss: 0.3147 - val_loss: 0.5696\n",
      "Epoch 13/20\n",
      "500/500 [==============================] - 26s 52ms/step - loss: 0.3086 - val_loss: 0.6030\n",
      "Epoch 14/20\n",
      "500/500 [==============================] - 25s 51ms/step - loss: 0.3062 - val_loss: 0.4688\n",
      "Epoch 15/20\n",
      "500/500 [==============================] - 25s 50ms/step - loss: 0.3014 - val_loss: 0.4474\n",
      "Epoch 16/20\n",
      "500/500 [==============================] - 25s 51ms/step - loss: 0.2982 - val_loss: 0.5546\n",
      "Epoch 17/20\n",
      "500/500 [==============================] - 26s 52ms/step - loss: 0.2955 - val_loss: 0.5459\n",
      "Epoch 18/20\n",
      "500/500 [==============================] - 26s 52ms/step - loss: 0.2929 - val_loss: 0.5149\n",
      "Epoch 19/20\n",
      "500/500 [==============================] - 26s 52ms/step - loss: 0.2900 - val_loss: 0.5064\n",
      "Epoch 20/20\n",
      "500/500 [==============================] - 26s 53ms/step - loss: 0.2871 - val_loss: 0.6409\n"
     ]
    }
   ],
   "source": [
    "model = Sequential()\n",
    "model.add(layers.Conv1D(32, 5, activation='relu',\n",
    "                        input_shape=(None, float_data.shape[-1])))\n",
    "model.add(layers.MaxPooling1D(3))\n",
    "model.add(layers.Conv1D(32, 5, activation='relu'))\n",
    "model.add(layers.MaxPooling1D(3))\n",
    "model.add(layers.Conv1D(32, 5, activation='relu'))\n",
    "model.add(layers.GlobalMaxPooling1D())\n",
    "model.add(layers.Dense(1))\n",
    "\n",
    "model.compile(optimizer=RMSprop(), loss='mae')\n",
    "history = model.fit_generator(train_gen,\n",
    "                    steps_per_epoch=500,\n",
    "                    epochs=20,\n",
    "                    validation_data=val_gen,\n",
    "                    validation_steps=val_steps)"
   ]
  },
  {
   "cell_type": "code",
   "execution_count": 25,
   "metadata": {},
   "outputs": [
    {
     "data": {
      "image/png": "[encoded data removed]",
      "text/plain": [
       "<Figure size 432x288 with 1 Axes>"
      ]
     },
     "metadata": {
      "needs_background": "light"
     },
     "output_type": "display_data"
    }
   ],
   "source": [
    "import matplotlib.pyplot as plt\n",
    "\n",
    "loss = history.history['loss']\n",
    "val_loss = history.history['val_loss']\n",
    "\n",
    "epochs = range(1, len(loss) + 1)\n",
    "\n",
    "plt.figure()\n",
    "\n",
    "plt.plot(epochs, loss, 'bo', label='Training loss')\n",
    "plt.plot(epochs, val_loss, 'b', label='Validation loss')\n",
    "plt.title('Training and validation loss')\n",
    "plt.legend()\n",
    "\n",
    "plt.show()"
   ]
  },
  {
   "cell_type": "code",
   "execution_count": 26,
   "metadata": {},
   "outputs": [],
   "source": [
    "#一个时间步10分钟\n",
    "lookback = 720 #过去lookback个时间步\n",
    "step = 3  #数据采样周期， 每小时抽取一个数据点\n",
    "delay = 144 #目标在未来多少个时间步之后   144个时间步为1天\n",
    "batch_size = 128\n",
    "\n",
    "train_gen = generator(float_data,\n",
    "                      lookback=lookback,\n",
    "                      delay=delay,\n",
    "                      min_index=0, #data数组中的索引， 界定需要抽取哪些时间步\n",
    "                      max_index=200000,\n",
    "                      shuffle=True,\n",
    "                      step=step,\n",
    "                      batch_size=batch_size)\n",
    "\n",
    "val_gen = generator(float_data,\n",
    "                    lookback=lookback,\n",
    "                    delay=delay,\n",
    "                    min_index=200001,\n",
    "                    max_index=300000,\n",
    "                    #shuffle=True,\n",
    "                    step=step,\n",
    "                    batch_size=batch_size)\n",
    "\n",
    "test_gen = generator(float_data,\n",
    "                     lookback=lookback,\n",
    "                     delay=delay,\n",
    "                     min_index=300001,\n",
    "                     max_index=None,\n",
    "                     #shuffle=True,\n",
    "                     step=step,\n",
    "                     batch_size=batch_size)\n",
    "\n",
    "val_steps = (30000 - 20001 - lookback) // batch_size\n",
    "\n",
    "test_steps = (len(float_data) - 300001 - lookback) // batch_size"
   ]
  },
  {
   "cell_type": "code",
   "execution_count": 27,
   "metadata": {},
   "outputs": [
    {
     "name": "stdout",
     "output_type": "stream",
     "text": [
      "_________________________________________________________________\n",
      "Layer (type)                 Output Shape              Param #   \n",
      "=================================================================\n",
      "conv1d_7 (Conv1D)            (None, None, 32)          2272      \n",
      "_________________________________________________________________\n",
      "max_pooling1d_5 (MaxPooling1 (None, None, 32)          0         \n",
      "_________________________________________________________________\n",
      "conv1d_8 (Conv1D)            (None, None, 32)          5152      \n",
      "_________________________________________________________________\n",
      "gru_2 (GRU)                  (None, 32)                6240      \n",
      "_________________________________________________________________\n",
      "dense_4 (Dense)              (None, 1)                 33        \n",
      "=================================================================\n",
      "Total params: 13,697\n",
      "Trainable params: 13,697\n",
      "Non-trainable params: 0\n",
      "_________________________________________________________________\n",
      "Epoch 1/20\n",
      "500/500 [==============================] - 42s 85ms/step - loss: 0.3942 - val_loss: 0.3441\n",
      "Epoch 2/20\n",
      "500/500 [==============================] - 44s 87ms/step - loss: 0.3533 - val_loss: 0.2362\n",
      "Epoch 3/20\n",
      "500/500 [==============================] - 43s 85ms/step - loss: 0.3410 - val_loss: 0.3478\n",
      "Epoch 4/20\n",
      "500/500 [==============================] - 44s 88ms/step - loss: 0.3325 - val_loss: 0.3300\n",
      "Epoch 5/20\n",
      "500/500 [==============================] - 44s 88ms/step - loss: 0.3220 - val_loss: 0.3167\n",
      "Epoch 6/20\n",
      "500/500 [==============================] - 45s 89ms/step - loss: 0.3169 - val_loss: 0.3288\n",
      "Epoch 7/20\n",
      "500/500 [==============================] - 44s 89ms/step - loss: 0.3092 - val_loss: 0.3327\n",
      "Epoch 8/20\n",
      "500/500 [==============================] - 43s 87ms/step - loss: 0.3045 - val_loss: 0.3041\n",
      "Epoch 9/20\n",
      "500/500 [==============================] - 42s 84ms/step - loss: 0.2980 - val_loss: 0.3815\n",
      "Epoch 10/20\n",
      "500/500 [==============================] - 45s 90ms/step - loss: 0.2934 - val_loss: 0.3322\n",
      "Epoch 11/20\n",
      "500/500 [==============================] - 45s 91ms/step - loss: 0.2885 - val_loss: 0.2809\n",
      "Epoch 12/20\n",
      "500/500 [==============================] - 45s 90ms/step - loss: 0.2856 - val_loss: 0.2878\n",
      "Epoch 13/20\n",
      "500/500 [==============================] - 46s 91ms/step - loss: 0.2809 - val_loss: 0.3319\n",
      "Epoch 14/20\n",
      "500/500 [==============================] - 44s 88ms/step - loss: 0.2783 - val_loss: 0.3351\n",
      "Epoch 15/20\n",
      "500/500 [==============================] - 44s 88ms/step - loss: 0.2749 - val_loss: 0.3154\n",
      "Epoch 16/20\n",
      "500/500 [==============================] - 45s 90ms/step - loss: 0.2726 - val_loss: 0.3510\n",
      "Epoch 17/20\n",
      "500/500 [==============================] - 43s 87ms/step - loss: 0.2686 - val_loss: 0.3924\n",
      "Epoch 18/20\n",
      "500/500 [==============================] - 42s 84ms/step - loss: 0.2662 - val_loss: 0.3517\n",
      "Epoch 19/20\n",
      "500/500 [==============================] - 42s 84ms/step - loss: 0.2638 - val_loss: 0.3510\n",
      "Epoch 20/20\n",
      "500/500 [==============================] - 48s 95ms/step - loss: 0.2627 - val_loss: 0.3659\n"
     ]
    }
   ],
   "source": [
    "model = Sequential()\n",
    "model.add(layers.Conv1D(32, 5, activation='relu',\n",
    "                        input_shape=(None, float_data.shape[-1])))\n",
    "model.add(layers.MaxPooling1D(3))\n",
    "model.add(layers.Conv1D(32, 5, activation='relu'))\n",
    "model.add(layers.GRU(32, dropout=0.1, recurrent_dropout=0.5))\n",
    "model.add(layers.Dense(1))\n",
    "\n",
    "model.summary()\n",
    "\n",
    "model.compile(optimizer=RMSprop(), loss='mae')\n",
    "history = model.fit_generator(train_gen,\n",
    "                              steps_per_epoch=500,\n",
    "                              epochs=20,\n",
    "                              validation_data=val_gen,\n",
    "                              validation_steps=val_steps)"
   ]
  },
  {
   "cell_type": "code",
   "execution_count": 28,
   "metadata": {},
   "outputs": [
    {
     "data": {
      "image/png": "[encoded data removed]",
      "text/plain": [
       "<Figure size 432x288 with 1 Axes>"
      ]
     },
     "metadata": {
      "needs_background": "light"
     },
     "output_type": "display_data"
    }
   ],
   "source": [
    "import matplotlib.pyplot as plt\n",
    "\n",
    "loss = history.history['loss']\n",
    "val_loss = history.history['val_loss']\n",
    "\n",
    "epochs = range(1, len(loss) + 1)\n",
    "\n",
    "plt.figure()\n",
    "\n",
    "plt.plot(epochs, loss, 'bo', label='Training loss')\n",
    "plt.plot(epochs, val_loss, 'b', label='Validation loss')\n",
    "plt.title('Training and validation loss')\n",
    "plt.legend()\n",
    "\n",
    "plt.show()"
   ]
  },
  {
   "cell_type": "code",
   "execution_count": null,
   "metadata": {},
   "outputs": [],
   "source": []
  }
 ],
 "metadata": {
  "kernelspec": {
   "display_name": "Python 3",
   "language": "python",
   "name": "python3"
  },
  "language_info": {
   "codemirror_mode": {
    "name": "ipython",
    "version": 3
   },
   "file_extension": ".py",
   "mimetype": "text/x-python",
   "name": "python",
   "nbconvert_exporter": "python",
   "pygments_lexer": "ipython3",
   "version": "3.5.6"
  }
 },
 "nbformat": 4,
 "nbformat_minor": 2
}
