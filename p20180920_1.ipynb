{
 "cells": [
  {
   "cell_type": "markdown",
   "metadata": {},
   "source": [
    "# 迁移学习"
   ]
  },
  {
   "cell_type": "code",
   "execution_count": 7,
   "metadata": {},
   "outputs": [],
   "source": [
    "from keras.applications import VGG16\n",
    "\n",
    "conv_base = VGG16(weights='imagenet',\n",
    "                  include_top=False,\n",
    "                  input_shape=(150, 150, 3))"
   ]
  },
  {
   "cell_type": "code",
   "execution_count": 2,
   "metadata": {},
   "outputs": [
    {
     "name": "stdout",
     "output_type": "stream",
     "text": [
      "_________________________________________________________________\n",
      "Layer (type)                 Output Shape              Param #   \n",
      "=================================================================\n",
      "input_1 (InputLayer)         (None, 150, 150, 3)       0         \n",
      "_________________________________________________________________\n",
      "block1_conv1 (Conv2D)        (None, 150, 150, 64)      1792      \n",
      "_________________________________________________________________\n",
      "block1_conv2 (Conv2D)        (None, 150, 150, 64)      36928     \n",
      "_________________________________________________________________\n",
      "block1_pool (MaxPooling2D)   (None, 75, 75, 64)        0         \n",
      "_________________________________________________________________\n",
      "block2_conv1 (Conv2D)        (None, 75, 75, 128)       73856     \n",
      "_________________________________________________________________\n",
      "block2_conv2 (Conv2D)        (None, 75, 75, 128)       147584    \n",
      "_________________________________________________________________\n",
      "block2_pool (MaxPooling2D)   (None, 37, 37, 128)       0         \n",
      "_________________________________________________________________\n",
      "block3_conv1 (Conv2D)        (None, 37, 37, 256)       295168    \n",
      "_________________________________________________________________\n",
      "block3_conv2 (Conv2D)        (None, 37, 37, 256)       590080    \n",
      "_________________________________________________________________\n",
      "block3_conv3 (Conv2D)        (None, 37, 37, 256)       590080    \n",
      "_________________________________________________________________\n",
      "block3_pool (MaxPooling2D)   (None, 18, 18, 256)       0         \n",
      "_________________________________________________________________\n",
      "block4_conv1 (Conv2D)        (None, 18, 18, 512)       1180160   \n",
      "_________________________________________________________________\n",
      "block4_conv2 (Conv2D)        (None, 18, 18, 512)       2359808   \n",
      "_________________________________________________________________\n",
      "block4_conv3 (Conv2D)        (None, 18, 18, 512)       2359808   \n",
      "_________________________________________________________________\n",
      "block4_pool (MaxPooling2D)   (None, 9, 9, 512)         0         \n",
      "_________________________________________________________________\n",
      "block5_conv1 (Conv2D)        (None, 9, 9, 512)         2359808   \n",
      "_________________________________________________________________\n",
      "block5_conv2 (Conv2D)        (None, 9, 9, 512)         2359808   \n",
      "_________________________________________________________________\n",
      "block5_conv3 (Conv2D)        (None, 9, 9, 512)         2359808   \n",
      "_________________________________________________________________\n",
      "block5_pool (MaxPooling2D)   (None, 4, 4, 512)         0         \n",
      "=================================================================\n",
      "Total params: 14,714,688\n",
      "Trainable params: 14,714,688\n",
      "Non-trainable params: 0\n",
      "_________________________________________________________________\n"
     ]
    }
   ],
   "source": [
    "conv_base.summary()"
   ]
  },
  {
   "cell_type": "markdown",
   "metadata": {},
   "source": [
    "# 特征提取"
   ]
  },
  {
   "cell_type": "code",
   "execution_count": 1,
   "metadata": {},
   "outputs": [
    {
     "name": "stderr",
     "output_type": "stream",
     "text": [
      "Using TensorFlow backend.\n"
     ]
    }
   ],
   "source": [
    "import os\n",
    "import numpy as np\n",
    "from keras.preprocessing.image import ImageDataGenerator"
   ]
  },
  {
   "cell_type": "code",
   "execution_count": 2,
   "metadata": {
    "collapsed": true
   },
   "outputs": [],
   "source": [
    "base_dir = 'dogs_vs_cats'\n",
    "train_dir = os.path.join(base_dir, 'train')\n",
    "validation_dir = os.path.join(base_dir, 'validation')\n",
    "test_dir = os.path.join(base_dir, 'test')\n",
    "\n",
    "datagen = ImageDataGenerator(rescale=1./255)\n",
    "batch_size = 20"
   ]
  },
  {
   "cell_type": "code",
   "execution_count": 3,
   "metadata": {
    "collapsed": true
   },
   "outputs": [],
   "source": [
    "def extract_features(directory, sample_count):\n",
    "    features = np.zeros(shape=(sample_count, 4, 4, 512))\n",
    "    labels = np.zeros(shape=(sample_count))\n",
    "    generator = datagen.flow_from_directory(\n",
    "                    directory,\n",
    "                    target_size=(150, 150),\n",
    "                    batch_size=batch_size,\n",
    "                    class_mode='binary')\n",
    "    i = 0\n",
    "    for inputs_batch, labels_batch in generator:\n",
    "        features_batch = conv_base.predict(inputs_batch)\n",
    "        features[i * batch_size : (i+1) * batch_size] = features_batch\n",
    "        labels[i * batch_size : (i+1) * batch_size] = labels_batch\n",
    "        i += 1\n",
    "        if i * batch_size >= sample_count:\n",
    "            break\n",
    "    return features, labels"
   ]
  },
  {
   "cell_type": "code",
   "execution_count": 7,
   "metadata": {},
   "outputs": [
    {
     "name": "stdout",
     "output_type": "stream",
     "text": [
      "Found 2000 images belonging to 2 classes.\n",
      "Found 1000 images belonging to 2 classes.\n",
      "Found 1000 images belonging to 2 classes.\n"
     ]
    }
   ],
   "source": [
    "train_features, train_labels = extract_features(train_dir, 2000)\n",
    "validation_features, validation_labels = extract_features(validation_dir, 1000)\n",
    "test_features, test_labels = extract_features(test_dir, 1000)"
   ]
  },
  {
   "cell_type": "code",
   "execution_count": 8,
   "metadata": {
    "collapsed": true
   },
   "outputs": [],
   "source": [
    "train_features = np.reshape(train_features, (2000, 4 * 4 * 512))\n",
    "validation_features = np.reshape(validation_features, (1000, 4 * 4 * 512))\n",
    "test_features = np.reshape(test_features, (1000, 4 * 4 * 512))"
   ]
  },
  {
   "cell_type": "code",
   "execution_count": 15,
   "metadata": {},
   "outputs": [
    {
     "data": {
      "text/plain": [
       "(2000, 8192)"
      ]
     },
     "execution_count": 15,
     "metadata": {},
     "output_type": "execute_result"
    }
   ],
   "source": [
    "train_features.shape"
   ]
  },
  {
   "cell_type": "code",
   "execution_count": 4,
   "metadata": {
    "collapsed": true
   },
   "outputs": [],
   "source": [
    "from keras import models\n",
    "from keras import layers\n",
    "from keras import optimizers"
   ]
  },
  {
   "cell_type": "code",
   "execution_count": 16,
   "metadata": {},
   "outputs": [
    {
     "name": "stdout",
     "output_type": "stream",
     "text": [
      "Train on 2000 samples, validate on 1000 samples\n",
      "Epoch 1/30\n",
      "2000/2000 [==============================] - 3s 1ms/step - loss: 0.6128 - acc: 0.6510 - val_loss: 0.4641 - val_acc: 0.8110\n",
      "Epoch 2/30\n",
      "2000/2000 [==============================] - 2s 1ms/step - loss: 0.4410 - acc: 0.7960 - val_loss: 0.3732 - val_acc: 0.8480\n",
      "Epoch 3/30\n",
      "2000/2000 [==============================] - 2s 1ms/step - loss: 0.3572 - acc: 0.8480 - val_loss: 0.3294 - val_acc: 0.8800\n",
      "Epoch 4/30\n",
      "2000/2000 [==============================] - 2s 1ms/step - loss: 0.3215 - acc: 0.8670 - val_loss: 0.3045 - val_acc: 0.8810\n",
      "Epoch 5/30\n",
      "2000/2000 [==============================] - 2s 1ms/step - loss: 0.2979 - acc: 0.8800 - val_loss: 0.2877 - val_acc: 0.8930\n",
      "Epoch 6/30\n",
      "2000/2000 [==============================] - 3s 1ms/step - loss: 0.2700 - acc: 0.8960 - val_loss: 0.2753 - val_acc: 0.8940\n",
      "Epoch 7/30\n",
      "2000/2000 [==============================] - 2s 1ms/step - loss: 0.2511 - acc: 0.8980 - val_loss: 0.2849 - val_acc: 0.8750\n",
      "Epoch 8/30\n",
      "2000/2000 [==============================] - 3s 1ms/step - loss: 0.2320 - acc: 0.9170 - val_loss: 0.2605 - val_acc: 0.8970\n",
      "Epoch 9/30\n",
      "2000/2000 [==============================] - 3s 1ms/step - loss: 0.2277 - acc: 0.9125 - val_loss: 0.2530 - val_acc: 0.9020\n",
      "Epoch 10/30\n",
      "2000/2000 [==============================] - 3s 1ms/step - loss: 0.2089 - acc: 0.9265 - val_loss: 0.2521 - val_acc: 0.8960\n",
      "Epoch 11/30\n",
      "2000/2000 [==============================] - 3s 1ms/step - loss: 0.2002 - acc: 0.9260 - val_loss: 0.2765 - val_acc: 0.8820\n",
      "Epoch 12/30\n",
      "2000/2000 [==============================] - 3s 1ms/step - loss: 0.1960 - acc: 0.9320 - val_loss: 0.2497 - val_acc: 0.9050\n",
      "Epoch 13/30\n",
      "2000/2000 [==============================] - 3s 1ms/step - loss: 0.1800 - acc: 0.9355 - val_loss: 0.2397 - val_acc: 0.9050\n",
      "Epoch 14/30\n",
      "2000/2000 [==============================] - 3s 1ms/step - loss: 0.1789 - acc: 0.9350 - val_loss: 0.2443 - val_acc: 0.8970\n",
      "Epoch 15/30\n",
      "2000/2000 [==============================] - 3s 1ms/step - loss: 0.1682 - acc: 0.9405 - val_loss: 0.2398 - val_acc: 0.9010\n",
      "Epoch 16/30\n",
      "2000/2000 [==============================] - 3s 1ms/step - loss: 0.1572 - acc: 0.9445 - val_loss: 0.2366 - val_acc: 0.9060\n",
      "Epoch 17/30\n",
      "2000/2000 [==============================] - 3s 1ms/step - loss: 0.1514 - acc: 0.9450 - val_loss: 0.2374 - val_acc: 0.9040\n",
      "Epoch 18/30\n",
      "2000/2000 [==============================] - 3s 1ms/step - loss: 0.1487 - acc: 0.9480 - val_loss: 0.2383 - val_acc: 0.9000\n",
      "Epoch 19/30\n",
      "2000/2000 [==============================] - 3s 1ms/step - loss: 0.1459 - acc: 0.9495 - val_loss: 0.2358 - val_acc: 0.9020\n",
      "Epoch 20/30\n",
      "2000/2000 [==============================] - 3s 1ms/step - loss: 0.1330 - acc: 0.9555 - val_loss: 0.2351 - val_acc: 0.9030\n",
      "Epoch 21/30\n",
      "2000/2000 [==============================] - 3s 1ms/step - loss: 0.1324 - acc: 0.9530 - val_loss: 0.2359 - val_acc: 0.9070\n",
      "Epoch 22/30\n",
      "2000/2000 [==============================] - 3s 1ms/step - loss: 0.1184 - acc: 0.9615 - val_loss: 0.2328 - val_acc: 0.9050\n",
      "Epoch 23/30\n",
      "2000/2000 [==============================] - 3s 1ms/step - loss: 0.1190 - acc: 0.9580 - val_loss: 0.2328 - val_acc: 0.9050\n",
      "Epoch 24/30\n",
      "2000/2000 [==============================] - 3s 1ms/step - loss: 0.1186 - acc: 0.9575 - val_loss: 0.2357 - val_acc: 0.9040\n",
      "Epoch 25/30\n",
      "2000/2000 [==============================] - 3s 1ms/step - loss: 0.1095 - acc: 0.9665 - val_loss: 0.2316 - val_acc: 0.9020\n",
      "Epoch 26/30\n",
      "2000/2000 [==============================] - 3s 1ms/step - loss: 0.1058 - acc: 0.9680 - val_loss: 0.2366 - val_acc: 0.9020\n",
      "Epoch 27/30\n",
      "2000/2000 [==============================] - 3s 1ms/step - loss: 0.1056 - acc: 0.9645 - val_loss: 0.2324 - val_acc: 0.9030\n",
      "Epoch 28/30\n",
      "2000/2000 [==============================] - 3s 1ms/step - loss: 0.1001 - acc: 0.9690 - val_loss: 0.2329 - val_acc: 0.9010\n",
      "Epoch 29/30\n",
      "2000/2000 [==============================] - 3s 1ms/step - loss: 0.0973 - acc: 0.9705 - val_loss: 0.2356 - val_acc: 0.9020\n",
      "Epoch 30/30\n",
      "2000/2000 [==============================] - 3s 1ms/step - loss: 0.0942 - acc: 0.9710 - val_loss: 0.2436 - val_acc: 0.9010\n"
     ]
    }
   ],
   "source": [
    "model = models.Sequential()\n",
    "model.add(layers.Dense(256, activation='relu', input_shape=(4 * 4 * 512, )))\n",
    "model.add(layers.Dropout(0.5))\n",
    "model.add(layers.Dense(1, activation='sigmoid'))\n",
    "\n",
    "model.compile(optimizer=optimizers.RMSprop(lr=2e-5),\n",
    "              loss='binary_crossentropy',\n",
    "              metrics=['acc'])\n",
    "\n",
    "history = model.fit(train_features, train_labels,\n",
    "                    epochs=30,\n",
    "                    batch_size=20,\n",
    "                    validation_data=(validation_features, validation_labels))\n"
   ]
  },
  {
   "cell_type": "code",
   "execution_count": 17,
   "metadata": {},
   "outputs": [
    {
     "data": {
      "image/png": "[encoded data removed]",
      "text/plain": [
       "<Figure size 432x288 with 1 Axes>"
      ]
     },
     "metadata": {
      "needs_background": "light"
     },
     "output_type": "display_data"
    },
    {
     "data": {
      "image/png": "[encoded data removed]",
      "text/plain": [
       "<Figure size 432x288 with 1 Axes>"
      ]
     },
     "metadata": {
      "needs_background": "light"
     },
     "output_type": "display_data"
    }
   ],
   "source": [
    "import matplotlib.pyplot as plt\n",
    "\n",
    "acc = history.history['acc']\n",
    "val_acc = history.history['val_acc']\n",
    "loss = history.history['loss']\n",
    "val_loss = history.history['val_loss']\n",
    "\n",
    "epochs = range(1, len(acc) + 1)\n",
    "\n",
    "plt.plot(epochs, acc, 'bo', label='Training acc')\n",
    "plt.plot(epochs, val_acc, 'b', label='Validaion acc')\n",
    "plt.title('Training and Validaion accuracy')\n",
    "plt.legend()\n",
    "\n",
    "plt.figure()\n",
    "\n",
    "plt.plot(epochs, loss, 'bo', label='Training loss')\n",
    "plt.plot(epochs, val_loss, 'b', label='Validaion loss')\n",
    "plt.title('Training and Validaion loss')\n",
    "plt.legend()\n",
    "\n",
    "plt.show()"
   ]
  },
  {
   "cell_type": "markdown",
   "metadata": {},
   "source": [
    "# 使用数据增强的特征提取"
   ]
  },
  {
   "cell_type": "code",
   "execution_count": 8,
   "metadata": {},
   "outputs": [],
   "source": [
    "model = models.Sequential()\n",
    "model.add(conv_base)\n",
    "model.add(layers.Flatten())\n",
    "model.add(layers.Dense(256, activation='relu'))\n",
    "model.add(layers.Dense(1, activation='sigmoid'))"
   ]
  },
  {
   "cell_type": "code",
   "execution_count": 9,
   "metadata": {},
   "outputs": [
    {
     "name": "stdout",
     "output_type": "stream",
     "text": [
      "_________________________________________________________________\n",
      "Layer (type)                 Output Shape              Param #   \n",
      "=================================================================\n",
      "vgg16 (Model)                (None, 4, 4, 512)         14714688  \n",
      "_________________________________________________________________\n",
      "flatten_1 (Flatten)          (None, 8192)              0         \n",
      "_________________________________________________________________\n",
      "dense_1 (Dense)              (None, 256)               2097408   \n",
      "_________________________________________________________________\n",
      "dense_2 (Dense)              (None, 1)                 257       \n",
      "=================================================================\n",
      "Total params: 16,812,353\n",
      "Trainable params: 16,812,353\n",
      "Non-trainable params: 0\n",
      "_________________________________________________________________\n"
     ]
    }
   ],
   "source": [
    "model.summary()"
   ]
  },
  {
   "cell_type": "code",
   "execution_count": 10,
   "metadata": {},
   "outputs": [
    {
     "name": "stdout",
     "output_type": "stream",
     "text": [
      "This is the number of trainable weights before freezing the conv base: 30\n"
     ]
    }
   ],
   "source": [
    "print('This is the number of trainable weights '\n",
    "      'before freezing the conv base:', len(model.trainable_weights))"
   ]
  },
  {
   "cell_type": "code",
   "execution_count": 11,
   "metadata": {},
   "outputs": [
    {
     "data": {
      "text/plain": [
       "True"
      ]
     },
     "execution_count": 11,
     "metadata": {},
     "output_type": "execute_result"
    }
   ],
   "source": [
    "conv_base.trainable"
   ]
  },
  {
   "cell_type": "code",
   "execution_count": 12,
   "metadata": {
    "collapsed": true
   },
   "outputs": [],
   "source": [
    "conv_base.trainable = False"
   ]
  },
  {
   "cell_type": "code",
   "execution_count": 13,
   "metadata": {},
   "outputs": [
    {
     "name": "stdout",
     "output_type": "stream",
     "text": [
      "This is the number of trainable weights after freezing the conv base: 4\n"
     ]
    }
   ],
   "source": [
    "print('This is the number of trainable weights '\n",
    "      'after freezing the conv base:', len(model.trainable_weights))"
   ]
  },
  {
   "cell_type": "code",
   "execution_count": 14,
   "metadata": {},
   "outputs": [
    {
     "name": "stdout",
     "output_type": "stream",
     "text": [
      "Found 2000 images belonging to 2 classes.\n",
      "Found 1000 images belonging to 2 classes.\n"
     ]
    }
   ],
   "source": [
    "train_datagen = ImageDataGenerator(\n",
    "                      rescale=1./255,\n",
    "                      rotation_range=40,\n",
    "                      width_shift_range=0.2,\n",
    "                      height_shift_range=0.2,\n",
    "                      shear_range=0.2,\n",
    "                      zoom_range=0.2,\n",
    "                      horizontal_flip=True,\n",
    "                      fill_mode='nearest')\n",
    "\n",
    "test_datagen = ImageDataGenerator(rescale=1./255)\n",
    "\n",
    "train_generator = train_datagen.flow_from_directory(\n",
    "                    train_dir,\n",
    "                    target_size=(150, 150),\n",
    "                    batch_size=20,\n",
    "                    class_mode='binary')\n",
    "\n",
    "validation_generator = test_datagen.flow_from_directory(\n",
    "                          validation_dir,\n",
    "                          target_size=(150, 150),\n",
    "                          batch_size=20,\n",
    "                          class_mode='binary')"
   ]
  },
  {
   "cell_type": "code",
   "execution_count": 15,
   "metadata": {
    "collapsed": true
   },
   "outputs": [],
   "source": [
    "model.compile(optimizer=optimizers.RMSprop(lr=2e-5),\n",
    "              loss='binary_crossentropy',\n",
    "              metrics=['acc'])"
   ]
  },
  {
   "cell_type": "code",
   "execution_count": 20,
   "metadata": {
    "scrolled": true
   },
   "outputs": [
    {
     "name": "stdout",
     "output_type": "stream",
     "text": [
      "Epoch 1/30\n",
      "100/100 [==============================] - 519s 5s/step - loss: 0.2603 - acc: 0.8865 - val_loss: 0.2428 - val_acc: 0.9070\n",
      "Epoch 2/30\n",
      "100/100 [==============================] - 518s 5s/step - loss: 0.2577 - acc: 0.8925 - val_loss: 0.2462 - val_acc: 0.9010\n",
      "Epoch 3/30\n",
      "100/100 [==============================] - 518s 5s/step - loss: 0.2467 - acc: 0.9060 - val_loss: 0.2414 - val_acc: 0.9080\n",
      "Epoch 4/30\n",
      "100/100 [==============================] - 519s 5s/step - loss: 0.2520 - acc: 0.8975 - val_loss: 0.2414 - val_acc: 0.9040\n",
      "Epoch 5/30\n",
      "100/100 [==============================] - 519s 5s/step - loss: 0.2542 - acc: 0.8875 - val_loss: 0.2411 - val_acc: 0.9050\n",
      "Epoch 6/30\n",
      "100/100 [==============================] - 518s 5s/step - loss: 0.2555 - acc: 0.8940 - val_loss: 0.2469 - val_acc: 0.9000\n",
      "Epoch 7/30\n",
      "100/100 [==============================] - 518s 5s/step - loss: 0.2523 - acc: 0.9015 - val_loss: 0.2407 - val_acc: 0.9040\n",
      "Epoch 8/30\n",
      "100/100 [==============================] - 518s 5s/step - loss: 0.2601 - acc: 0.8830 - val_loss: 0.2424 - val_acc: 0.9030\n",
      "Epoch 9/30\n",
      "100/100 [==============================] - 518s 5s/step - loss: 0.2509 - acc: 0.8875 - val_loss: 0.2901 - val_acc: 0.8770\n",
      "Epoch 10/30\n",
      "100/100 [==============================] - 522s 5s/step - loss: 0.2454 - acc: 0.8875 - val_loss: 0.2425 - val_acc: 0.9060\n",
      "Epoch 11/30\n",
      "100/100 [==============================] - 518s 5s/step - loss: 0.2585 - acc: 0.8945 - val_loss: 0.2379 - val_acc: 0.9070\n",
      "Epoch 12/30\n",
      "100/100 [==============================] - 518s 5s/step - loss: 0.2436 - acc: 0.9000 - val_loss: 0.2374 - val_acc: 0.9070\n",
      "Epoch 13/30\n",
      "100/100 [==============================] - 519s 5s/step - loss: 0.2455 - acc: 0.8930 - val_loss: 0.2399 - val_acc: 0.9030\n",
      "Epoch 14/30\n",
      "100/100 [==============================] - 518s 5s/step - loss: 0.2514 - acc: 0.8920 - val_loss: 0.2472 - val_acc: 0.9000\n",
      "Epoch 15/30\n",
      "100/100 [==============================] - 518s 5s/step - loss: 0.2456 - acc: 0.8940 - val_loss: 0.2407 - val_acc: 0.9030\n",
      "Epoch 16/30\n",
      "100/100 [==============================] - 518s 5s/step - loss: 0.2644 - acc: 0.8820 - val_loss: 0.2403 - val_acc: 0.9050\n",
      "Epoch 17/30\n",
      "100/100 [==============================] - 518s 5s/step - loss: 0.2473 - acc: 0.8930 - val_loss: 0.2402 - val_acc: 0.9070\n",
      "Epoch 18/30\n",
      "100/100 [==============================] - 519s 5s/step - loss: 0.2509 - acc: 0.8920 - val_loss: 0.2394 - val_acc: 0.9060\n",
      "Epoch 19/30\n",
      "100/100 [==============================] - 518s 5s/step - loss: 0.2570 - acc: 0.8935 - val_loss: 0.2470 - val_acc: 0.9040\n",
      "Epoch 20/30\n",
      "100/100 [==============================] - 518s 5s/step - loss: 0.2321 - acc: 0.9025 - val_loss: 0.2424 - val_acc: 0.9080\n",
      "Epoch 21/30\n",
      "100/100 [==============================] - 517s 5s/step - loss: 0.2558 - acc: 0.8945 - val_loss: 0.2452 - val_acc: 0.8980\n",
      "Epoch 22/30\n",
      "100/100 [==============================] - 517s 5s/step - loss: 0.2591 - acc: 0.8890 - val_loss: 0.2394 - val_acc: 0.9030\n",
      "Epoch 23/30\n",
      "100/100 [==============================] - 518s 5s/step - loss: 0.2392 - acc: 0.8985 - val_loss: 0.2428 - val_acc: 0.9060\n",
      "Epoch 24/30\n",
      "100/100 [==============================] - 517s 5s/step - loss: 0.2495 - acc: 0.8900 - val_loss: 0.2435 - val_acc: 0.9040\n",
      "Epoch 25/30\n",
      "100/100 [==============================] - 517s 5s/step - loss: 0.2572 - acc: 0.8845 - val_loss: 0.2401 - val_acc: 0.9030\n",
      "Epoch 26/30\n",
      "100/100 [==============================] - 518s 5s/step - loss: 0.2487 - acc: 0.8955 - val_loss: 0.2439 - val_acc: 0.9070\n",
      "Epoch 27/30\n",
      "100/100 [==============================] - 518s 5s/step - loss: 0.2459 - acc: 0.8955 - val_loss: 0.2429 - val_acc: 0.9030\n",
      "Epoch 28/30\n",
      "100/100 [==============================] - 518s 5s/step - loss: 0.2336 - acc: 0.8940 - val_loss: 0.2427 - val_acc: 0.9040\n",
      "Epoch 29/30\n",
      "100/100 [==============================] - 518s 5s/step - loss: 0.2423 - acc: 0.8925 - val_loss: 0.2443 - val_acc: 0.9050\n",
      "Epoch 30/30\n",
      "100/100 [==============================] - 518s 5s/step - loss: 0.2396 - acc: 0.8990 - val_loss: 0.2468 - val_acc: 0.9030\n"
     ]
    }
   ],
   "source": [
    "history = model.fit_generator(\n",
    "             train_generator,\n",
    "             steps_per_epoch=100,\n",
    "             epochs=30,#50\n",
    "             validation_data=validation_generator,\n",
    "             validation_steps=50)"
   ]
  },
  {
   "cell_type": "code",
   "execution_count": 21,
   "metadata": {
    "collapsed": true
   },
   "outputs": [],
   "source": [
    "model.save('cats_and_dogs_small_3.h5')"
   ]
  },
  {
   "cell_type": "code",
   "execution_count": null,
   "metadata": {
    "collapsed": true
   },
   "outputs": [],
   "source": [
    "from keras.models import load_model            \n",
    "model = load_model('cats_and_dogs_small_3.h5')"
   ]
  },
  {
   "cell_type": "code",
   "execution_count": 22,
   "metadata": {},
   "outputs": [
    {
     "data": {
      "image/png": "[encoded data removed]",
      "text/plain": [
       "<matplotlib.figure.Figure at 0xf0ecb00>"
      ]
     },
     "metadata": {},
     "output_type": "display_data"
    },
    {
     "data": {
      "image/png": "[encoded data removed]",
      "text/plain": [
       "<matplotlib.figure.Figure at 0xf1246a0>"
      ]
     },
     "metadata": {},
     "output_type": "display_data"
    }
   ],
   "source": [
    "import matplotlib.pyplot as plt\n",
    "\n",
    "acc = history.history['acc']\n",
    "val_acc = history.history['val_acc']\n",
    "loss = history.history['loss']\n",
    "val_loss = history.history['val_loss']\n",
    "\n",
    "epochs = range(1, len(acc) + 1)\n",
    "\n",
    "plt.plot(epochs, acc, 'bo', label='Training acc')\n",
    "plt.plot(epochs, val_acc, 'b', label='Validaion acc')\n",
    "plt.title('Training and Validaion accuracy')\n",
    "plt.legend()\n",
    "\n",
    "plt.figure()\n",
    "\n",
    "plt.plot(epochs, loss, 'bo', label='Training loss')\n",
    "plt.plot(epochs, val_loss, 'b', label='Validaion loss')\n",
    "plt.title('Training and Validaion loss')\n",
    "plt.legend()\n",
    "\n",
    "plt.show()"
   ]
  },
  {
   "cell_type": "code",
   "execution_count": 23,
   "metadata": {},
   "outputs": [
    {
     "data": {
      "image/png": "[encoded data removed]",
      "text/plain": [
       "<matplotlib.figure.Figure at 0x1210f128>"
      ]
     },
     "metadata": {},
     "output_type": "display_data"
    },
    {
     "data": {
      "image/png": "[encoded data removed]",
      "text/plain": [
       "<matplotlib.figure.Figure at 0xf206470>"
      ]
     },
     "metadata": {},
     "output_type": "display_data"
    }
   ],
   "source": [
    "import matplotlib.pyplot as plt\n",
    "\n",
    "acc = history.history['acc']\n",
    "val_acc = history.history['val_acc']\n",
    "loss = history.history['loss']\n",
    "val_loss = history.history['val_loss']\n",
    "\n",
    "epochs = range(1, len(acc) + 1)\n",
    "\n",
    "plt.plot(epochs, acc, 'bo', label='Training acc')\n",
    "plt.plot(epochs, val_acc, 'b', label='Validaion acc')\n",
    "plt.title('Training and Validaion accuracy')\n",
    "plt.legend()\n",
    "\n",
    "plt.figure()\n",
    "\n",
    "plt.plot(epochs, loss, 'bo', label='Training loss')\n",
    "plt.plot(epochs, val_loss, 'b', label='Validaion loss')\n",
    "plt.title('Training and Validaion loss')\n",
    "plt.legend()\n",
    "\n",
    "plt.show()"
   ]
  },
  {
   "cell_type": "markdown",
   "metadata": {},
   "source": [
    "# 微调模型"
   ]
  },
  {
   "cell_type": "code",
   "execution_count": 5,
   "metadata": {
    "collapsed": true
   },
   "outputs": [],
   "source": [
    "from keras.models import load_model\n",
    "from keras import optimizers"
   ]
  },
  {
   "cell_type": "code",
   "execution_count": 6,
   "metadata": {},
   "outputs": [
    {
     "name": "stderr",
     "output_type": "stream",
     "text": [
      "E:\\python3\\lib\\site-packages\\keras\\engine\\saving.py:304: UserWarning: Error in loading the saved optimizer state. As a result, your model is starting with a freshly initialized optimizer.\n",
      "  warnings.warn('Error in loading the saved optimizer '\n"
     ]
    }
   ],
   "source": [
    "model = load_model('cats_and_dogs_small_3.h5')"
   ]
  },
  {
   "cell_type": "code",
   "execution_count": 7,
   "metadata": {},
   "outputs": [
    {
     "name": "stdout",
     "output_type": "stream",
     "text": [
      "_________________________________________________________________\n",
      "Layer (type)                 Output Shape              Param #   \n",
      "=================================================================\n",
      "vgg16 (Model)                (None, 4, 4, 512)         14714688  \n",
      "_________________________________________________________________\n",
      "flatten_1 (Flatten)          (None, 8192)              0         \n",
      "_________________________________________________________________\n",
      "dense_1 (Dense)              (None, 256)               2097408   \n",
      "_________________________________________________________________\n",
      "dense_2 (Dense)              (None, 1)                 257       \n",
      "=================================================================\n",
      "Total params: 16,812,353\n",
      "Trainable params: 16,812,353\n",
      "Non-trainable params: 0\n",
      "_________________________________________________________________\n"
     ]
    }
   ],
   "source": [
    "model.summary()"
   ]
  },
  {
   "cell_type": "code",
   "execution_count": 8,
   "metadata": {},
   "outputs": [
    {
     "name": "stdout",
     "output_type": "stream",
     "text": [
      "_________________________________________________________________\n",
      "Layer (type)                 Output Shape              Param #   \n",
      "=================================================================\n",
      "input_1 (InputLayer)         (None, 150, 150, 3)       0         \n",
      "_________________________________________________________________\n",
      "block1_conv1 (Conv2D)        (None, 150, 150, 64)      1792      \n",
      "_________________________________________________________________\n",
      "block1_conv2 (Conv2D)        (None, 150, 150, 64)      36928     \n",
      "_________________________________________________________________\n",
      "block1_pool (MaxPooling2D)   (None, 75, 75, 64)        0         \n",
      "_________________________________________________________________\n",
      "block2_conv1 (Conv2D)        (None, 75, 75, 128)       73856     \n",
      "_________________________________________________________________\n",
      "block2_conv2 (Conv2D)        (None, 75, 75, 128)       147584    \n",
      "_________________________________________________________________\n",
      "block2_pool (MaxPooling2D)   (None, 37, 37, 128)       0         \n",
      "_________________________________________________________________\n",
      "block3_conv1 (Conv2D)        (None, 37, 37, 256)       295168    \n",
      "_________________________________________________________________\n",
      "block3_conv2 (Conv2D)        (None, 37, 37, 256)       590080    \n",
      "_________________________________________________________________\n",
      "block3_conv3 (Conv2D)        (None, 37, 37, 256)       590080    \n",
      "_________________________________________________________________\n",
      "block3_pool (MaxPooling2D)   (None, 18, 18, 256)       0         \n",
      "_________________________________________________________________\n",
      "block4_conv1 (Conv2D)        (None, 18, 18, 512)       1180160   \n",
      "_________________________________________________________________\n",
      "block4_conv2 (Conv2D)        (None, 18, 18, 512)       2359808   \n",
      "_________________________________________________________________\n",
      "block4_conv3 (Conv2D)        (None, 18, 18, 512)       2359808   \n",
      "_________________________________________________________________\n",
      "block4_pool (MaxPooling2D)   (None, 9, 9, 512)         0         \n",
      "_________________________________________________________________\n",
      "block5_conv1 (Conv2D)        (None, 9, 9, 512)         2359808   \n",
      "_________________________________________________________________\n",
      "block5_conv2 (Conv2D)        (None, 9, 9, 512)         2359808   \n",
      "_________________________________________________________________\n",
      "block5_conv3 (Conv2D)        (None, 9, 9, 512)         2359808   \n",
      "_________________________________________________________________\n",
      "block5_pool (MaxPooling2D)   (None, 4, 4, 512)         0         \n",
      "=================================================================\n",
      "Total params: 14,714,688\n",
      "Trainable params: 14,714,688\n",
      "Non-trainable params: 0\n",
      "_________________________________________________________________\n"
     ]
    }
   ],
   "source": [
    "model.get_layer('vgg16').summary()"
   ]
  },
  {
   "cell_type": "code",
   "execution_count": 9,
   "metadata": {
    "collapsed": true
   },
   "outputs": [],
   "source": [
    "conv_base = model.get_layer('vgg16')"
   ]
  },
  {
   "cell_type": "code",
   "execution_count": 10,
   "metadata": {
    "collapsed": true
   },
   "outputs": [],
   "source": [
    "conv_base.trainable = True"
   ]
  },
  {
   "cell_type": "code",
   "execution_count": 11,
   "metadata": {},
   "outputs": [
    {
     "data": {
      "text/plain": [
       "[<keras.engine.input_layer.InputLayer at 0xdf88a58>,\n",
       " <keras.layers.convolutional.Conv2D at 0xdf88a90>,\n",
       " <keras.layers.convolutional.Conv2D at 0xdfa3240>,\n",
       " <keras.layers.pooling.MaxPooling2D at 0xdfa34a8>,\n",
       " <keras.layers.convolutional.Conv2D at 0xdfa3ba8>,\n",
       " <keras.layers.convolutional.Conv2D at 0xdfa3d30>,\n",
       " <keras.layers.pooling.MaxPooling2D at 0xdfa3eb8>,\n",
       " <keras.layers.convolutional.Conv2D at 0xdfa3f60>,\n",
       " <keras.layers.convolutional.Conv2D at 0xe01d128>,\n",
       " <keras.layers.convolutional.Conv2D at 0xe01d2b0>,\n",
       " <keras.layers.pooling.MaxPooling2D at 0xe01d438>,\n",
       " <keras.layers.convolutional.Conv2D at 0xe01d4e0>,\n",
       " <keras.layers.convolutional.Conv2D at 0xe01d668>,\n",
       " <keras.layers.convolutional.Conv2D at 0xe01d7f0>,\n",
       " <keras.layers.pooling.MaxPooling2D at 0xe01d978>,\n",
       " <keras.layers.convolutional.Conv2D at 0xe01da20>,\n",
       " <keras.layers.convolutional.Conv2D at 0xe01dba8>,\n",
       " <keras.layers.convolutional.Conv2D at 0xe01dd30>,\n",
       " <keras.layers.pooling.MaxPooling2D at 0xe01deb8>]"
      ]
     },
     "execution_count": 11,
     "metadata": {},
     "output_type": "execute_result"
    }
   ],
   "source": [
    "conv_base.layers "
   ]
  },
  {
   "cell_type": "code",
   "execution_count": 12,
   "metadata": {
    "collapsed": true
   },
   "outputs": [],
   "source": [
    "set_trainable = False\n",
    "for layer in conv_base.layers:\n",
    "    if layer.name == 'block5_conv1':\n",
    "        set_trainable = True\n",
    "    if set_trainable:\n",
    "        layer.trainable = True\n",
    "    else:\n",
    "        layer.trainable = False"
   ]
  },
  {
   "cell_type": "code",
   "execution_count": 13,
   "metadata": {
    "scrolled": true
   },
   "outputs": [
    {
     "name": "stdout",
     "output_type": "stream",
     "text": [
      "Epoch 1/100\n",
      "100/100 [==============================] - 589s 6s/step - loss: 0.3029 - acc: 0.8675 - val_loss: 0.2684 - val_acc: 0.8900\n",
      "Epoch 2/100\n",
      "100/100 [==============================] - 585s 6s/step - loss: 0.2534 - acc: 0.8940 - val_loss: 0.2128 - val_acc: 0.9210\n",
      "Epoch 3/100\n",
      "100/100 [==============================] - 585s 6s/step - loss: 0.2346 - acc: 0.9065 - val_loss: 0.2178 - val_acc: 0.9170\n",
      "Epoch 4/100\n",
      "100/100 [==============================] - 585s 6s/step - loss: 0.2110 - acc: 0.9125 - val_loss: 0.2020 - val_acc: 0.9220\n",
      "Epoch 5/100\n",
      "100/100 [==============================] - 585s 6s/step - loss: 0.2165 - acc: 0.9095 - val_loss: 0.1960 - val_acc: 0.9260\n",
      "Epoch 6/100\n",
      "100/100 [==============================] - 585s 6s/step - loss: 0.1901 - acc: 0.9170 - val_loss: 0.1921 - val_acc: 0.9290\n",
      "Epoch 7/100\n",
      "100/100 [==============================] - 585s 6s/step - loss: 0.1844 - acc: 0.9200 - val_loss: 0.2015 - val_acc: 0.9310\n",
      "Epoch 8/100\n",
      "100/100 [==============================] - 585s 6s/step - loss: 0.1776 - acc: 0.9300 - val_loss: 0.1971 - val_acc: 0.9280\n",
      "Epoch 9/100\n",
      "100/100 [==============================] - 585s 6s/step - loss: 0.1647 - acc: 0.9300 - val_loss: 0.2256 - val_acc: 0.9230\n",
      "Epoch 10/100\n",
      "100/100 [==============================] - 585s 6s/step - loss: 0.1564 - acc: 0.9420 - val_loss: 0.2023 - val_acc: 0.9310\n",
      "Epoch 11/100\n",
      "100/100 [==============================] - 585s 6s/step - loss: 0.1479 - acc: 0.9375 - val_loss: 0.1979 - val_acc: 0.9320\n",
      "Epoch 12/100\n",
      "100/100 [==============================] - 585s 6s/step - loss: 0.1497 - acc: 0.9430 - val_loss: 0.1775 - val_acc: 0.9350\n",
      "Epoch 13/100\n",
      "100/100 [==============================] - 586s 6s/step - loss: 0.1328 - acc: 0.9470 - val_loss: 0.1989 - val_acc: 0.9290\n",
      "Epoch 14/100\n",
      "100/100 [==============================] - 585s 6s/step - loss: 0.1184 - acc: 0.9545 - val_loss: 0.2376 - val_acc: 0.9210\n",
      "Epoch 15/100\n",
      "100/100 [==============================] - 585s 6s/step - loss: 0.1283 - acc: 0.9485 - val_loss: 0.1876 - val_acc: 0.9350\n",
      "Epoch 16/100\n",
      "100/100 [==============================] - 585s 6s/step - loss: 0.1065 - acc: 0.9570 - val_loss: 0.2829 - val_acc: 0.9060\n",
      "Epoch 17/100\n",
      "100/100 [==============================] - 585s 6s/step - loss: 0.1285 - acc: 0.9570 - val_loss: 0.2864 - val_acc: 0.9020\n",
      "Epoch 18/100\n",
      "100/100 [==============================] - 585s 6s/step - loss: 0.1062 - acc: 0.9580 - val_loss: 0.1991 - val_acc: 0.9310\n",
      "Epoch 19/100\n",
      "100/100 [==============================] - 585s 6s/step - loss: 0.1034 - acc: 0.9585 - val_loss: 0.1956 - val_acc: 0.9280\n",
      "Epoch 20/100\n",
      "100/100 [==============================] - 586s 6s/step - loss: 0.1038 - acc: 0.9595 - val_loss: 0.1727 - val_acc: 0.9340\n",
      "Epoch 21/100\n",
      "100/100 [==============================] - 585s 6s/step - loss: 0.0918 - acc: 0.9585 - val_loss: 0.1934 - val_acc: 0.9310\n",
      "Epoch 22/100\n",
      "100/100 [==============================] - 585s 6s/step - loss: 0.0925 - acc: 0.9620 - val_loss: 0.1873 - val_acc: 0.9420\n",
      "Epoch 23/100\n",
      "100/100 [==============================] - 585s 6s/step - loss: 0.0909 - acc: 0.9680 - val_loss: 0.2012 - val_acc: 0.9330\n",
      "Epoch 24/100\n",
      "100/100 [==============================] - 585s 6s/step - loss: 0.0796 - acc: 0.9705 - val_loss: 0.1834 - val_acc: 0.9300\n",
      "Epoch 25/100\n",
      "100/100 [==============================] - 585s 6s/step - loss: 0.0872 - acc: 0.9640 - val_loss: 0.1923 - val_acc: 0.9330\n",
      "Epoch 26/100\n",
      "100/100 [==============================] - 584s 6s/step - loss: 0.0772 - acc: 0.9700 - val_loss: 0.1816 - val_acc: 0.9400\n",
      "Epoch 27/100\n",
      "100/100 [==============================] - 585s 6s/step - loss: 0.0850 - acc: 0.9705 - val_loss: 0.1934 - val_acc: 0.9360\n",
      "Epoch 28/100\n",
      "100/100 [==============================] - 585s 6s/step - loss: 0.0692 - acc: 0.9765 - val_loss: 0.2007 - val_acc: 0.9380\n",
      "Epoch 29/100\n",
      "100/100 [==============================] - 585s 6s/step - loss: 0.0784 - acc: 0.9690 - val_loss: 0.2382 - val_acc: 0.9260\n",
      "Epoch 30/100\n",
      "100/100 [==============================] - 585s 6s/step - loss: 0.0703 - acc: 0.9750 - val_loss: 0.2131 - val_acc: 0.9290\n",
      "Epoch 31/100\n",
      "100/100 [==============================] - 585s 6s/step - loss: 0.0592 - acc: 0.9790 - val_loss: 0.2202 - val_acc: 0.9330\n",
      "Epoch 32/100\n",
      "100/100 [==============================] - 585s 6s/step - loss: 0.0650 - acc: 0.9760 - val_loss: 0.1849 - val_acc: 0.9370\n",
      "Epoch 33/100\n",
      "100/100 [==============================] - 585s 6s/step - loss: 0.0690 - acc: 0.9725 - val_loss: 0.2030 - val_acc: 0.9360\n",
      "Epoch 34/100\n",
      "100/100 [==============================] - 585s 6s/step - loss: 0.0639 - acc: 0.9775 - val_loss: 0.1907 - val_acc: 0.9370\n",
      "Epoch 35/100\n",
      "100/100 [==============================] - 585s 6s/step - loss: 0.0516 - acc: 0.9810 - val_loss: 0.2111 - val_acc: 0.9390\n",
      "Epoch 36/100\n",
      "100/100 [==============================] - 585s 6s/step - loss: 0.0507 - acc: 0.9845 - val_loss: 0.2430 - val_acc: 0.9280\n",
      "Epoch 37/100\n",
      "100/100 [==============================] - 585s 6s/step - loss: 0.0492 - acc: 0.9780 - val_loss: 0.3238 - val_acc: 0.9110\n",
      "Epoch 38/100\n",
      "100/100 [==============================] - 585s 6s/step - loss: 0.0534 - acc: 0.9820 - val_loss: 0.2879 - val_acc: 0.9260\n",
      "Epoch 39/100\n",
      "100/100 [==============================] - 585s 6s/step - loss: 0.0435 - acc: 0.9850 - val_loss: 0.2251 - val_acc: 0.9370\n",
      "Epoch 40/100\n",
      "100/100 [==============================] - 585s 6s/step - loss: 0.0464 - acc: 0.9840 - val_loss: 0.2173 - val_acc: 0.9460\n",
      "Epoch 41/100\n",
      "100/100 [==============================] - 585s 6s/step - loss: 0.0563 - acc: 0.9775 - val_loss: 0.2261 - val_acc: 0.9370\n",
      "Epoch 42/100\n",
      "100/100 [==============================] - 585s 6s/step - loss: 0.0445 - acc: 0.9860 - val_loss: 0.2554 - val_acc: 0.9250\n",
      "Epoch 43/100\n",
      "100/100 [==============================] - 585s 6s/step - loss: 0.0598 - acc: 0.9790 - val_loss: 0.2664 - val_acc: 0.9220\n",
      "Epoch 44/100\n",
      "100/100 [==============================] - 584s 6s/step - loss: 0.0467 - acc: 0.9815 - val_loss: 0.2340 - val_acc: 0.9250\n",
      "Epoch 45/100\n",
      "100/100 [==============================] - 585s 6s/step - loss: 0.0409 - acc: 0.9830 - val_loss: 0.3478 - val_acc: 0.9170\n",
      "Epoch 46/100\n",
      "100/100 [==============================] - 585s 6s/step - loss: 0.0581 - acc: 0.9805 - val_loss: 0.2318 - val_acc: 0.9330\n",
      "Epoch 47/100\n",
      "100/100 [==============================] - 585s 6s/step - loss: 0.0372 - acc: 0.9885 - val_loss: 0.1952 - val_acc: 0.9350\n",
      "Epoch 48/100\n",
      "100/100 [==============================] - 585s 6s/step - loss: 0.0389 - acc: 0.9870 - val_loss: 0.3054 - val_acc: 0.9210\n",
      "Epoch 49/100\n",
      "100/100 [==============================] - 585s 6s/step - loss: 0.0429 - acc: 0.9830 - val_loss: 0.2388 - val_acc: 0.9330\n",
      "Epoch 50/100\n",
      "100/100 [==============================] - 585s 6s/step - loss: 0.0339 - acc: 0.9855 - val_loss: 0.2466 - val_acc: 0.9290\n",
      "Epoch 51/100\n",
      "100/100 [==============================] - 585s 6s/step - loss: 0.0527 - acc: 0.9840 - val_loss: 0.2309 - val_acc: 0.9310\n",
      "Epoch 52/100\n",
      "100/100 [==============================] - 585s 6s/step - loss: 0.0461 - acc: 0.9855 - val_loss: 0.2266 - val_acc: 0.9390\n",
      "Epoch 53/100\n",
      "100/100 [==============================] - 585s 6s/step - loss: 0.0354 - acc: 0.9890 - val_loss: 0.2364 - val_acc: 0.9360\n",
      "Epoch 54/100\n",
      "100/100 [==============================] - 585s 6s/step - loss: 0.0368 - acc: 0.9880 - val_loss: 0.2178 - val_acc: 0.9360\n",
      "Epoch 55/100\n",
      "100/100 [==============================] - 585s 6s/step - loss: 0.0431 - acc: 0.9830 - val_loss: 0.2179 - val_acc: 0.9360\n",
      "Epoch 56/100\n",
      "100/100 [==============================] - 585s 6s/step - loss: 0.0367 - acc: 0.9875 - val_loss: 0.2333 - val_acc: 0.9400\n",
      "Epoch 57/100\n",
      "100/100 [==============================] - 585s 6s/step - loss: 0.0352 - acc: 0.9875 - val_loss: 0.2072 - val_acc: 0.9470\n",
      "Epoch 58/100\n",
      "100/100 [==============================] - 585s 6s/step - loss: 0.0398 - acc: 0.9850 - val_loss: 0.2535 - val_acc: 0.9320\n",
      "Epoch 59/100\n",
      "100/100 [==============================] - 585s 6s/step - loss: 0.0361 - acc: 0.9850 - val_loss: 0.2446 - val_acc: 0.9400\n",
      "Epoch 60/100\n",
      "100/100 [==============================] - 585s 6s/step - loss: 0.0298 - acc: 0.9905 - val_loss: 0.2799 - val_acc: 0.9240\n",
      "Epoch 61/100\n",
      "100/100 [==============================] - 585s 6s/step - loss: 0.0424 - acc: 0.9850 - val_loss: 0.2136 - val_acc: 0.9450\n"
     ]
    },
    {
     "name": "stdout",
     "output_type": "stream",
     "text": [
      "Epoch 62/100\n",
      "100/100 [==============================] - 585s 6s/step - loss: 0.0388 - acc: 0.9900 - val_loss: 0.2454 - val_acc: 0.9400\n",
      "Epoch 63/100\n",
      "100/100 [==============================] - 585s 6s/step - loss: 0.0345 - acc: 0.9860 - val_loss: 0.2388 - val_acc: 0.9320\n",
      "Epoch 64/100\n",
      "100/100 [==============================] - 585s 6s/step - loss: 0.0333 - acc: 0.9885 - val_loss: 0.2155 - val_acc: 0.9400\n",
      "Epoch 65/100\n",
      "100/100 [==============================] - 585s 6s/step - loss: 0.0331 - acc: 0.9875 - val_loss: 0.2456 - val_acc: 0.9370\n",
      "Epoch 66/100\n",
      "100/100 [==============================] - 584s 6s/step - loss: 0.0307 - acc: 0.9890 - val_loss: 0.2312 - val_acc: 0.9400\n",
      "Epoch 67/100\n",
      "100/100 [==============================] - 585s 6s/step - loss: 0.0277 - acc: 0.9910 - val_loss: 0.3316 - val_acc: 0.9260\n",
      "Epoch 68/100\n",
      "100/100 [==============================] - 584s 6s/step - loss: 0.0329 - acc: 0.9875 - val_loss: 0.2938 - val_acc: 0.9340\n",
      "Epoch 69/100\n",
      "100/100 [==============================] - 585s 6s/step - loss: 0.0335 - acc: 0.9880 - val_loss: 0.2846 - val_acc: 0.9280\n",
      "Epoch 70/100\n",
      "100/100 [==============================] - 584s 6s/step - loss: 0.0299 - acc: 0.9900 - val_loss: 0.3750 - val_acc: 0.9190\n",
      "Epoch 71/100\n",
      "100/100 [==============================] - 585s 6s/step - loss: 0.0240 - acc: 0.9930 - val_loss: 0.2657 - val_acc: 0.9390\n",
      "Epoch 72/100\n",
      "100/100 [==============================] - 585s 6s/step - loss: 0.0280 - acc: 0.9910 - val_loss: 0.3103 - val_acc: 0.9340\n",
      "Epoch 73/100\n",
      "100/100 [==============================] - 585s 6s/step - loss: 0.0217 - acc: 0.9935 - val_loss: 0.2942 - val_acc: 0.9370\n",
      "Epoch 74/100\n",
      "100/100 [==============================] - 585s 6s/step - loss: 0.0400 - acc: 0.9870 - val_loss: 0.2291 - val_acc: 0.9440\n",
      "Epoch 75/100\n",
      "100/100 [==============================] - 584s 6s/step - loss: 0.0196 - acc: 0.9945 - val_loss: 0.2613 - val_acc: 0.9370\n",
      "Epoch 76/100\n",
      "100/100 [==============================] - 585s 6s/step - loss: 0.0293 - acc: 0.9895 - val_loss: 0.2575 - val_acc: 0.9400\n",
      "Epoch 77/100\n",
      "100/100 [==============================] - 585s 6s/step - loss: 0.0317 - acc: 0.9885 - val_loss: 0.3163 - val_acc: 0.9290\n",
      "Epoch 78/100\n",
      "100/100 [==============================] - 584s 6s/step - loss: 0.0239 - acc: 0.9930 - val_loss: 0.2712 - val_acc: 0.9370\n",
      "Epoch 79/100\n",
      "100/100 [==============================] - 585s 6s/step - loss: 0.0343 - acc: 0.9870 - val_loss: 0.2290 - val_acc: 0.9420\n",
      "Epoch 80/100\n",
      "100/100 [==============================] - 585s 6s/step - loss: 0.0263 - acc: 0.9905 - val_loss: 0.2725 - val_acc: 0.9390\n",
      "Epoch 81/100\n",
      "100/100 [==============================] - 584s 6s/step - loss: 0.0264 - acc: 0.9895 - val_loss: 0.2300 - val_acc: 0.9390\n",
      "Epoch 82/100\n",
      "100/100 [==============================] - 584s 6s/step - loss: 0.0279 - acc: 0.9895 - val_loss: 0.2254 - val_acc: 0.9430\n",
      "Epoch 83/100\n",
      "100/100 [==============================] - 585s 6s/step - loss: 0.0258 - acc: 0.9905 - val_loss: 0.2896 - val_acc: 0.9370\n",
      "Epoch 84/100\n",
      "100/100 [==============================] - 585s 6s/step - loss: 0.0235 - acc: 0.9925 - val_loss: 0.2901 - val_acc: 0.9380\n",
      "Epoch 85/100\n",
      "100/100 [==============================] - 585s 6s/step - loss: 0.0220 - acc: 0.9940 - val_loss: 0.2524 - val_acc: 0.9430\n",
      "Epoch 86/100\n",
      "100/100 [==============================] - 585s 6s/step - loss: 0.0223 - acc: 0.9915 - val_loss: 0.4529 - val_acc: 0.9140\n",
      "Epoch 87/100\n",
      "100/100 [==============================] - 585s 6s/step - loss: 0.0326 - acc: 0.9880 - val_loss: 0.2607 - val_acc: 0.9420\n",
      "Epoch 88/100\n",
      "100/100 [==============================] - 584s 6s/step - loss: 0.0202 - acc: 0.9915 - val_loss: 0.2404 - val_acc: 0.9420\n",
      "Epoch 89/100\n",
      "100/100 [==============================] - 585s 6s/step - loss: 0.0278 - acc: 0.9905 - val_loss: 0.2597 - val_acc: 0.9420\n",
      "Epoch 90/100\n",
      "100/100 [==============================] - 585s 6s/step - loss: 0.0168 - acc: 0.9925 - val_loss: 0.2766 - val_acc: 0.9360\n",
      "Epoch 91/100\n",
      "100/100 [==============================] - 585s 6s/step - loss: 0.0172 - acc: 0.9940 - val_loss: 0.2894 - val_acc: 0.9390\n",
      "Epoch 92/100\n",
      "100/100 [==============================] - 586s 6s/step - loss: 0.0210 - acc: 0.9905 - val_loss: 0.2997 - val_acc: 0.9290\n",
      "Epoch 93/100\n",
      "100/100 [==============================] - 591s 6s/step - loss: 0.0265 - acc: 0.9890 - val_loss: 0.2559 - val_acc: 0.9390\n",
      "Epoch 94/100\n",
      "100/100 [==============================] - 585s 6s/step - loss: 0.0338 - acc: 0.9900 - val_loss: 0.2761 - val_acc: 0.9380\n",
      "Epoch 95/100\n",
      "100/100 [==============================] - 588s 6s/step - loss: 0.0258 - acc: 0.9925 - val_loss: 0.2741 - val_acc: 0.9350\n",
      "Epoch 96/100\n",
      "100/100 [==============================] - 585s 6s/step - loss: 0.0176 - acc: 0.9940 - val_loss: 0.2828 - val_acc: 0.9420\n",
      "Epoch 97/100\n",
      "100/100 [==============================] - 585s 6s/step - loss: 0.0238 - acc: 0.9910 - val_loss: 0.2628 - val_acc: 0.9410\n",
      "Epoch 98/100\n",
      "100/100 [==============================] - 586s 6s/step - loss: 0.0139 - acc: 0.9950 - val_loss: 0.2766 - val_acc: 0.9390\n",
      "Epoch 99/100\n",
      "100/100 [==============================] - 588s 6s/step - loss: 0.0203 - acc: 0.9920 - val_loss: 0.3796 - val_acc: 0.9320\n",
      "Epoch 100/100\n",
      "100/100 [==============================] - 587s 6s/step - loss: 0.0266 - acc: 0.9930 - val_loss: 0.3010 - val_acc: 0.9300\n"
     ]
    }
   ],
   "source": [
    "model.compile(optimizer=optimizers.RMSprop(lr=1e-5),\n",
    "              loss='binary_crossentropy',\n",
    "              metrics=['acc'])\n",
    "\n",
    "history = model.fit_generator( \n",
    "                train_generator,\n",
    "                steps_per_epoch=100,\n",
    "                epochs=100,\n",
    "                validation_data=validation_generator,\n",
    "                validation_steps=50)"
   ]
  },
  {
   "cell_type": "code",
   "execution_count": 14,
   "metadata": {},
   "outputs": [
    {
     "data": {
      "image/png": "[encoded data removed]",
      "text/plain": [
       "<matplotlib.figure.Figure at 0xee19358>"
      ]
     },
     "metadata": {},
     "output_type": "display_data"
    },
    {
     "data": {
      "image/png": "[encoded data removed]",
      "text/plain": [
       "<matplotlib.figure.Figure at 0xf45b550>"
      ]
     },
     "metadata": {},
     "output_type": "display_data"
    }
   ],
   "source": [
    "import matplotlib.pyplot as plt\n",
    "\n",
    "acc = history.history['acc']\n",
    "val_acc = history.history['val_acc']\n",
    "loss = history.history['loss']\n",
    "val_loss = history.history['val_loss']\n",
    "\n",
    "epochs = range(1, len(acc) + 1)\n",
    "\n",
    "plt.plot(epochs, acc, 'bo', label='Training acc')\n",
    "plt.plot(epochs, val_acc, 'b', label='Validaion acc')\n",
    "plt.title('Training and Validaion accuracy')\n",
    "plt.legend()\n",
    "\n",
    "plt.figure()\n",
    "\n",
    "plt.plot(epochs, loss, 'bo', label='Training loss')\n",
    "plt.plot(epochs, val_loss, 'b', label='Validaion loss')\n",
    "plt.title('Training and Validaion loss')\n",
    "plt.legend()\n",
    "\n",
    "plt.show()"
   ]
  },
  {
   "cell_type": "code",
   "execution_count": 16,
   "metadata": {
    "collapsed": true
   },
   "outputs": [],
   "source": [
    "def smooth_curve(points, factor=0.8):\n",
    "    smoothed_points = []\n",
    "    for point in points:\n",
    "        if smoothed_points:\n",
    "            previous = smoothed_points[-1]\n",
    "            smoothed_points.append(previous * factor + point * (1 - factor))\n",
    "        else:\n",
    "            smoothed_points.append(point)\n",
    "    return smoothed_points"
   ]
  },
  {
   "cell_type": "code",
   "execution_count": 17,
   "metadata": {},
   "outputs": [
    {
     "data": {
      "image/png": "[encoded data removed]",
      "text/plain": [
       "<matplotlib.figure.Figure at 0xf5a84e0>"
      ]
     },
     "metadata": {},
     "output_type": "display_data"
    },
    {
     "data": {
      "image/png": "[encoded data removed]",
      "text/plain": [
       "<matplotlib.figure.Figure at 0xf608a20>"
      ]
     },
     "metadata": {},
     "output_type": "display_data"
    }
   ],
   "source": [
    "plt.plot(epochs, smooth_curve(acc), 'bo', label='Smoothed training acc')\n",
    "plt.plot(epochs, smooth_curve(val_acc), 'b', label='Smoothed validation acc')\n",
    "plt.title('Training and Validation accuracy')\n",
    "plt.legend()\n",
    "\n",
    "plt.figure()\n",
    "\n",
    "plt.plot(epochs, smooth_curve(loss), 'bo', label='Smoothed training loss')\n",
    "plt.plot(epochs, smooth_curve(val_loss), 'b', label='Smoothed validation loss')\n",
    "plt.title('Training and Validation loss')\n",
    "plt.legend()\n",
    "\n",
    "plt.show()"
   ]
  },
  {
   "cell_type": "code",
   "execution_count": 20,
   "metadata": {},
   "outputs": [
    {
     "name": "stdout",
     "output_type": "stream",
     "text": [
      "Found 1000 images belonging to 2 classes.\n",
      "test acc: 0.92599998951\n"
     ]
    }
   ],
   "source": [
    "test_generator = test_datagen.flow_from_directory(\n",
    "                    test_dir,\n",
    "                    target_size=(150, 150),\n",
    "                    batch_size=20,\n",
    "                    class_mode='binary')\n",
    "\n",
    "test_loss, test_acc = model.evaluate_generator(test_generator, steps=50)\n",
    "print('test acc:', test_acc)"
   ]
  },
  {
   "cell_type": "code",
   "execution_count": 21,
   "metadata": {
    "collapsed": true
   },
   "outputs": [],
   "source": [
    "model.save('cats_and_dogs_small_4.h5')"
   ]
  },
  {
   "cell_type": "code",
   "execution_count": null,
   "metadata": {
    "collapsed": true
   },
   "outputs": [],
   "source": []
  }
 ],
 "metadata": {
  "kernelspec": {
   "display_name": "Python 3",
   "language": "python",
   "name": "python3"
  },
  "language_info": {
   "codemirror_mode": {
    "name": "ipython",
    "version": 3
   },
   "file_extension": ".py",
   "mimetype": "text/x-python",
   "name": "python",
   "nbconvert_exporter": "python",
   "pygments_lexer": "ipython3",
   "version": "3.6.3"
  }
 },
 "nbformat": 4,
 "nbformat_minor": 2
}
