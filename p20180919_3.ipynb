{
 "cells": [
  {
   "cell_type": "code",
   "execution_count": 1,
   "metadata": {},
   "outputs": [
    {
     "name": "stderr",
     "output_type": "stream",
     "text": [
      "Using TensorFlow backend.\n"
     ]
    }
   ],
   "source": [
    "import os, shutil\n",
    "\n",
    "from keras import layers\n",
    "from keras import models"
   ]
  },
  {
   "cell_type": "code",
   "execution_count": 2,
   "metadata": {},
   "outputs": [],
   "source": [
    "original_dataset_dir = '../dataset/dogs_vs_cats/train/train'\n",
    "base_dir = 'dogs_vs_cats'\n",
    "\n",
    "train_dir = os.path.join(base_dir, 'train')\n",
    "validation_dir = os.path.join(base_dir, 'validation')\n",
    "test_dir = os.path.join(base_dir, 'test')\n",
    "\n",
    "train_cats_dir = os.path.join(train_dir, 'cats')\n",
    "train_dogs_dir = os.path.join(train_dir, 'dogs')\n",
    "\n",
    "validation_cats_dir = os.path.join(validation_dir, 'cats')\n",
    "validation_dogs_dir = os.path.join(validation_dir, 'dogs')\n",
    "\n",
    "test_cats_dir = os.path.join(test_dir, 'cats')\n",
    "test_dogs_dir = os.path.join(test_dir, 'dogs')"
   ]
  },
  {
   "cell_type": "code",
   "execution_count": 3,
   "metadata": {},
   "outputs": [],
   "source": [
    "model = models.Sequential()\n",
    "model.add(layers.Conv2D(32, (3, 3), activation='relu',\n",
    "                        input_shape=(150, 150, 3)))\n",
    "model.add(layers.MaxPooling2D((2, 2)))\n",
    "model.add(layers.Conv2D(64, (3, 3), activation='relu'))\n",
    "model.add(layers.MaxPooling2D((2, 2)))\n",
    "model.add(layers.Conv2D(128, (3, 3), activation='relu'))\n",
    "model.add(layers.MaxPooling2D((2, 2)))\n",
    "model.add(layers.Conv2D(128, (3, 3), activation='relu'))\n",
    "model.add(layers.MaxPooling2D((2, 2)))\n",
    "model.add(layers.Flatten())\n",
    "model.add(layers.Dense(512, activation='relu'))\n",
    "model.add(layers.Dense(1, activation='sigmoid'))"
   ]
  },
  {
   "cell_type": "code",
   "execution_count": 4,
   "metadata": {},
   "outputs": [
    {
     "name": "stdout",
     "output_type": "stream",
     "text": [
      "_________________________________________________________________\n",
      "Layer (type)                 Output Shape              Param #   \n",
      "=================================================================\n",
      "conv2d_1 (Conv2D)            (None, 148, 148, 32)      896       \n",
      "_________________________________________________________________\n",
      "max_pooling2d_1 (MaxPooling2 (None, 74, 74, 32)        0         \n",
      "_________________________________________________________________\n",
      "conv2d_2 (Conv2D)            (None, 72, 72, 64)        18496     \n",
      "_________________________________________________________________\n",
      "max_pooling2d_2 (MaxPooling2 (None, 36, 36, 64)        0         \n",
      "_________________________________________________________________\n",
      "conv2d_3 (Conv2D)            (None, 34, 34, 128)       73856     \n",
      "_________________________________________________________________\n",
      "max_pooling2d_3 (MaxPooling2 (None, 17, 17, 128)       0         \n",
      "_________________________________________________________________\n",
      "conv2d_4 (Conv2D)            (None, 15, 15, 128)       147584    \n",
      "_________________________________________________________________\n",
      "max_pooling2d_4 (MaxPooling2 (None, 7, 7, 128)         0         \n",
      "_________________________________________________________________\n",
      "flatten_1 (Flatten)          (None, 6272)              0         \n",
      "_________________________________________________________________\n",
      "dense_1 (Dense)              (None, 512)               3211776   \n",
      "_________________________________________________________________\n",
      "dense_2 (Dense)              (None, 1)                 513       \n",
      "=================================================================\n",
      "Total params: 3,453,121\n",
      "Trainable params: 3,453,121\n",
      "Non-trainable params: 0\n",
      "_________________________________________________________________\n"
     ]
    }
   ],
   "source": [
    "model.summary()"
   ]
  },
  {
   "cell_type": "code",
   "execution_count": 5,
   "metadata": {},
   "outputs": [],
   "source": [
    "from keras import optimizers\n",
    "\n",
    "model.compile(optimizer=optimizers.RMSprop(lr=1e-4),\n",
    "              loss='binary_crossentropy',\n",
    "              metrics=['acc'])"
   ]
  },
  {
   "cell_type": "code",
   "execution_count": 3,
   "metadata": {},
   "outputs": [
    {
     "name": "stdout",
     "output_type": "stream",
     "text": [
      "Found 2000 images belonging to 2 classes.\n",
      "Found 1000 images belonging to 2 classes.\n"
     ]
    }
   ],
   "source": [
    "from keras.preprocessing.image import ImageDataGenerator\n",
    "\n",
    "train_datagen = ImageDataGenerator(rescale=1./255)\n",
    "test_datagen = ImageDataGenerator(rescale=1./255)\n",
    "\n",
    "train_generator = train_datagen.flow_from_directory(\n",
    "            train_dir,\n",
    "            target_size=(150, 150),\n",
    "            batch_size=20,\n",
    "            class_mode='binary')\n",
    "validation_generator = test_datagen.flow_from_directory(\n",
    "            validation_dir,\n",
    "            target_size=(150, 150),\n",
    "            batch_size=20,\n",
    "            class_mode='binary')"
   ]
  },
  {
   "cell_type": "markdown",
   "metadata": {},
   "source": [
    "# Python生成器"
   ]
  },
  {
   "cell_type": "code",
   "execution_count": 7,
   "metadata": {},
   "outputs": [],
   "source": [
    "def generator():\n",
    "    i = 0\n",
    "    while True:\n",
    "        i += 1\n",
    "        yield i"
   ]
  },
  {
   "cell_type": "code",
   "execution_count": 8,
   "metadata": {},
   "outputs": [
    {
     "name": "stdout",
     "output_type": "stream",
     "text": [
      "1\n",
      "2\n",
      "3\n",
      "4\n",
      "5\n"
     ]
    }
   ],
   "source": [
    "for item in generator():\n",
    "    print(item)\n",
    "    if item > 4:\n",
    "        break"
   ]
  },
  {
   "cell_type": "code",
   "execution_count": 9,
   "metadata": {},
   "outputs": [
    {
     "name": "stdout",
     "output_type": "stream",
     "text": [
      "data batch shape: (20, 150, 150, 3)\n",
      "labels batch shape: (20,)\n"
     ]
    }
   ],
   "source": [
    "for data_batch, labels_batch in train_generator:\n",
    "    print('data batch shape:', data_batch.shape)\n",
    "    print('labels batch shape:', labels_batch.shape)\n",
    "    break"
   ]
  },
  {
   "cell_type": "code",
   "execution_count": 10,
   "metadata": {},
   "outputs": [
    {
     "name": "stdout",
     "output_type": "stream",
     "text": [
      "Epoch 1/30\n",
      "100/100 [==============================] - 85s 850ms/step - loss: 0.6912 - acc: 0.5345 - val_loss: 0.6776 - val_acc: 0.6080\n",
      "Epoch 2/30\n",
      "100/100 [==============================] - 89s 890ms/step - loss: 0.6586 - acc: 0.6165 - val_loss: 0.6723 - val_acc: 0.5530\n",
      "Epoch 3/30\n",
      "100/100 [==============================] - 93s 929ms/step - loss: 0.6187 - acc: 0.6760 - val_loss: 0.6170 - val_acc: 0.6590\n",
      "Epoch 4/30\n",
      "100/100 [==============================] - 89s 885ms/step - loss: 0.5679 - acc: 0.7070 - val_loss: 0.5887 - val_acc: 0.6860\n",
      "Epoch 5/30\n",
      "100/100 [==============================] - 89s 890ms/step - loss: 0.5312 - acc: 0.7315 - val_loss: 0.5697 - val_acc: 0.7050\n",
      "Epoch 6/30\n",
      "100/100 [==============================] - 89s 893ms/step - loss: 0.5001 - acc: 0.7480 - val_loss: 0.5585 - val_acc: 0.7090\n",
      "Epoch 7/30\n",
      "100/100 [==============================] - 90s 897ms/step - loss: 0.4708 - acc: 0.7790 - val_loss: 0.6004 - val_acc: 0.6900\n",
      "Epoch 8/30\n",
      "100/100 [==============================] - 91s 908ms/step - loss: 0.4394 - acc: 0.7900 - val_loss: 0.5487 - val_acc: 0.7180\n",
      "Epoch 9/30\n",
      "100/100 [==============================] - 92s 922ms/step - loss: 0.4247 - acc: 0.8025 - val_loss: 0.5453 - val_acc: 0.7290\n",
      "Epoch 10/30\n",
      "100/100 [==============================] - 95s 947ms/step - loss: 0.3984 - acc: 0.8250 - val_loss: 0.5715 - val_acc: 0.7300\n",
      "Epoch 11/30\n",
      "100/100 [==============================] - 93s 927ms/step - loss: 0.3669 - acc: 0.8380 - val_loss: 0.5553 - val_acc: 0.7310\n",
      "Epoch 12/30\n",
      "100/100 [==============================] - 96s 963ms/step - loss: 0.3443 - acc: 0.8455 - val_loss: 0.5679 - val_acc: 0.7180\n",
      "Epoch 13/30\n",
      "100/100 [==============================] - 90s 898ms/step - loss: 0.3220 - acc: 0.8670 - val_loss: 0.5869 - val_acc: 0.7300\n",
      "Epoch 14/30\n",
      "100/100 [==============================] - 92s 919ms/step - loss: 0.3010 - acc: 0.8720 - val_loss: 0.6130 - val_acc: 0.7150\n",
      "Epoch 15/30\n",
      "100/100 [==============================] - 96s 955ms/step - loss: 0.2757 - acc: 0.8890 - val_loss: 0.5888 - val_acc: 0.7280\n",
      "Epoch 16/30\n",
      "100/100 [==============================] - 94s 938ms/step - loss: 0.2507 - acc: 0.9055 - val_loss: 0.6294 - val_acc: 0.7390\n",
      "Epoch 17/30\n",
      "100/100 [==============================] - 93s 929ms/step - loss: 0.2421 - acc: 0.9030 - val_loss: 0.6068 - val_acc: 0.7390\n",
      "Epoch 18/30\n",
      "100/100 [==============================] - 95s 955ms/step - loss: 0.2164 - acc: 0.9185 - val_loss: 0.6321 - val_acc: 0.7440\n",
      "Epoch 19/30\n",
      "100/100 [==============================] - 95s 948ms/step - loss: 0.1971 - acc: 0.9255 - val_loss: 0.6616 - val_acc: 0.7270\n",
      "Epoch 20/30\n",
      "100/100 [==============================] - 96s 963ms/step - loss: 0.1734 - acc: 0.9350 - val_loss: 0.6735 - val_acc: 0.7370\n",
      "Epoch 21/30\n",
      "100/100 [==============================] - 95s 953ms/step - loss: 0.1567 - acc: 0.9445 - val_loss: 0.6833 - val_acc: 0.7480\n",
      "Epoch 22/30\n",
      "100/100 [==============================] - 93s 930ms/step - loss: 0.1325 - acc: 0.9560 - val_loss: 0.7585 - val_acc: 0.7360\n",
      "Epoch 23/30\n",
      "100/100 [==============================] - 91s 906ms/step - loss: 0.1180 - acc: 0.9610 - val_loss: 1.2367 - val_acc: 0.6500\n",
      "Epoch 24/30\n",
      "100/100 [==============================] - 91s 906ms/step - loss: 0.1140 - acc: 0.9620 - val_loss: 0.7405 - val_acc: 0.7410\n",
      "Epoch 25/30\n",
      "100/100 [==============================] - 90s 903ms/step - loss: 0.0891 - acc: 0.9725 - val_loss: 0.9109 - val_acc: 0.7180\n",
      "Epoch 26/30\n",
      "100/100 [==============================] - 90s 898ms/step - loss: 0.0853 - acc: 0.9740 - val_loss: 0.8522 - val_acc: 0.7340\n",
      "Epoch 27/30\n",
      "100/100 [==============================] - 90s 899ms/step - loss: 0.0705 - acc: 0.9795 - val_loss: 0.8901 - val_acc: 0.7240\n",
      "Epoch 28/30\n",
      "100/100 [==============================] - 91s 911ms/step - loss: 0.0547 - acc: 0.9850 - val_loss: 0.9033 - val_acc: 0.7320\n",
      "Epoch 29/30\n",
      "100/100 [==============================] - 90s 905ms/step - loss: 0.0533 - acc: 0.9855 - val_loss: 0.8834 - val_acc: 0.7340\n",
      "Epoch 30/30\n",
      "100/100 [==============================] - 91s 909ms/step - loss: 0.0408 - acc: 0.9925 - val_loss: 1.1440 - val_acc: 0.7250\n"
     ]
    }
   ],
   "source": [
    "history = model.fit_generator(\n",
    "            train_generator,\n",
    "            steps_per_epoch=100,\n",
    "            epochs=30,\n",
    "            validation_data=validation_generator,\n",
    "            validation_steps=50)"
   ]
  },
  {
   "cell_type": "code",
   "execution_count": 11,
   "metadata": {},
   "outputs": [],
   "source": [
    "model.save('cats_and_dogs_small_1.h5')"
   ]
  },
  {
   "cell_type": "code",
   "execution_count": 13,
   "metadata": {},
   "outputs": [
    {
     "data": {
      "text/plain": [
       "<matplotlib.legend.Legend at 0x250809c68d0>"
      ]
     },
     "execution_count": 13,
     "metadata": {},
     "output_type": "execute_result"
    },
    {
     "data": {
      "image/png": "[encoded data removed]",
      "text/plain": [
       "<Figure size 432x288 with 1 Axes>"
      ]
     },
     "metadata": {
      "needs_background": "light"
     },
     "output_type": "display_data"
    },
    {
     "data": {
      "image/png": "[encoded data removed]",
      "text/plain": [
       "<Figure size 432x288 with 1 Axes>"
      ]
     },
     "metadata": {
      "needs_background": "light"
     },
     "output_type": "display_data"
    }
   ],
   "source": [
    "import matplotlib.pyplot as plt\n",
    "\n",
    "acc = history.history['acc']\n",
    "val_acc = history.history['val_acc']\n",
    "loss = history.history['loss']\n",
    "val_loss = history.history['val_loss']\n",
    "\n",
    "epochs = range(1, len(acc) + 1)\n",
    "\n",
    "plt.plot(epochs, acc, 'bo', label='Training acc')\n",
    "plt.plot(epochs, val_acc, 'b', label='Validation acc')\n",
    "plt.title('Training and Validation accuracy')\n",
    "plt.legend()\n",
    "\n",
    "plt.figure()\n",
    "\n",
    "plt.plot(epochs, loss, 'bo', label='Training loss')\n",
    "plt.plot(epochs, val_loss, 'b', label='Validation loss')\n",
    "plt.title('Training and Validation loss')\n",
    "plt.legend()\n",
    "\n",
    "plt.show()"
   ]
  }
 ],
 "metadata": {
  "kernelspec": {
   "display_name": "Python 3",
   "language": "python",
   "name": "python3"
  },
  "language_info": {
   "codemirror_mode": {
    "name": "ipython",
    "version": 3
   },
   "file_extension": ".py",
   "mimetype": "text/x-python",
   "name": "python",
   "nbconvert_exporter": "python",
   "pygments_lexer": "ipython3",
   "version": "3.5.6"
  }
 },
 "nbformat": 4,
 "nbformat_minor": 2
}
